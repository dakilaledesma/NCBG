{
  "cells": [
    {
      "cell_type": "markdown",
      "metadata": {
        "id": "view-in-github",
        "colab_type": "text"
      },
      "source": [
        "<a href=\"https://colab.research.google.com/github/dakilaledesma/NCBG/blob/main/train/Multilabel_Parts.ipynb\" target=\"_parent\"><img src=\"https://colab.research.google.com/assets/colab-badge.svg\" alt=\"Open In Colab\"/></a>"
      ]
    },
    {
      "cell_type": "code",
      "execution_count": null,
      "metadata": {
        "colab": {
          "base_uri": "https://localhost:8080/"
        },
        "id": "4RBv2CGN3gJv",
        "outputId": "4fd0165f-78a4-4039-faaa-2fb88f56e230"
      },
      "outputs": [
        {
          "output_type": "stream",
          "name": "stdout",
          "text": [
            "CPU times: user 41.3 ms, sys: 20.7 ms, total: 62.1 ms\n",
            "Wall time: 4.85 s\n"
          ]
        }
      ],
      "source": [
        "%%time\n",
        "! unzip -q /content/drive/MyDrive/UNC/NCBG/sept1_classif_training.zip -d /content\n",
        "! cp /content/drive/MyDrive/UNC/NCBG/qry_fsus_trainingdata_ai.xlsx /content/qry_fsus_trainingdata_ai.xlsx"
      ]
    },
    {
      "cell_type": "code",
      "source": [
        "! mv /content/content/images /content/images\n",
        "! rm -rf /content/content"
      ],
      "metadata": {
        "id": "828eULKmJzax"
      },
      "execution_count": null,
      "outputs": []
    },
    {
      "cell_type": "code",
      "source": [
        "! pip install -U tensorflow-gpu"
      ],
      "metadata": {
        "colab": {
          "base_uri": "https://localhost:8080/"
        },
        "id": "TXF8NawzEFJx",
        "outputId": "3f2bcb67-0e0d-4bcb-9bbd-1506f8b9d36a"
      },
      "execution_count": null,
      "outputs": [
        {
          "output_type": "stream",
          "name": "stdout",
          "text": [
            "Looking in indexes: https://pypi.org/simple, https://us-python.pkg.dev/colab-wheels/public/simple/\n",
            "Collecting tensorflow-gpu\n",
            "  Downloading tensorflow_gpu-2.10.0-cp37-cp37m-manylinux_2_17_x86_64.manylinux2014_x86_64.whl (578.0 MB)\n",
            "\u001b[K     |████████████████████████████████| 578.0 MB 15 kB/s \n",
            "\u001b[?25hRequirement already satisfied: six>=1.12.0 in /usr/local/lib/python3.7/dist-packages (from tensorflow-gpu) (1.15.0)\n",
            "Requirement already satisfied: tensorflow-io-gcs-filesystem>=0.23.1 in /usr/local/lib/python3.7/dist-packages (from tensorflow-gpu) (0.26.0)\n",
            "Requirement already satisfied: keras-preprocessing>=1.1.1 in /usr/local/lib/python3.7/dist-packages (from tensorflow-gpu) (1.1.2)\n",
            "Requirement already satisfied: flatbuffers>=2.0 in /usr/local/lib/python3.7/dist-packages (from tensorflow-gpu) (2.0.7)\n",
            "Requirement already satisfied: absl-py>=1.0.0 in /usr/local/lib/python3.7/dist-packages (from tensorflow-gpu) (1.2.0)\n",
            "Requirement already satisfied: numpy>=1.20 in /usr/local/lib/python3.7/dist-packages (from tensorflow-gpu) (1.21.6)\n",
            "Requirement already satisfied: grpcio<2.0,>=1.24.3 in /usr/local/lib/python3.7/dist-packages (from tensorflow-gpu) (1.48.1)\n",
            "Collecting gast<=0.4.0,>=0.2.1\n",
            "  Downloading gast-0.4.0-py3-none-any.whl (9.8 kB)\n",
            "Requirement already satisfied: libclang>=13.0.0 in /usr/local/lib/python3.7/dist-packages (from tensorflow-gpu) (14.0.6)\n",
            "Requirement already satisfied: google-pasta>=0.1.1 in /usr/local/lib/python3.7/dist-packages (from tensorflow-gpu) (0.2.0)\n",
            "Requirement already satisfied: astunparse>=1.6.0 in /usr/local/lib/python3.7/dist-packages (from tensorflow-gpu) (1.6.3)\n",
            "Requirement already satisfied: setuptools in /usr/local/lib/python3.7/dist-packages (from tensorflow-gpu) (57.4.0)\n",
            "Collecting keras<2.11,>=2.10.0\n",
            "  Downloading keras-2.10.0-py2.py3-none-any.whl (1.7 MB)\n",
            "\u001b[K     |████████████████████████████████| 1.7 MB 56.1 MB/s \n",
            "\u001b[?25hRequirement already satisfied: h5py>=2.9.0 in /usr/local/lib/python3.7/dist-packages (from tensorflow-gpu) (3.1.0)\n",
            "Requirement already satisfied: typing-extensions>=3.6.6 in /usr/local/lib/python3.7/dist-packages (from tensorflow-gpu) (4.1.1)\n",
            "Collecting tensorboard<2.11,>=2.10\n",
            "  Downloading tensorboard-2.10.0-py3-none-any.whl (5.9 MB)\n",
            "\u001b[K     |████████████████████████████████| 5.9 MB 46.7 MB/s \n",
            "\u001b[?25hRequirement already satisfied: termcolor>=1.1.0 in /usr/local/lib/python3.7/dist-packages (from tensorflow-gpu) (1.1.0)\n",
            "Requirement already satisfied: opt-einsum>=2.3.2 in /usr/local/lib/python3.7/dist-packages (from tensorflow-gpu) (3.3.0)\n",
            "Requirement already satisfied: protobuf<3.20,>=3.9.2 in /usr/local/lib/python3.7/dist-packages (from tensorflow-gpu) (3.17.3)\n",
            "Requirement already satisfied: wrapt>=1.11.0 in /usr/local/lib/python3.7/dist-packages (from tensorflow-gpu) (1.14.1)\n",
            "Requirement already satisfied: packaging in /usr/local/lib/python3.7/dist-packages (from tensorflow-gpu) (21.3)\n",
            "Collecting tensorflow-estimator<2.11,>=2.10.0\n",
            "  Downloading tensorflow_estimator-2.10.0-py2.py3-none-any.whl (438 kB)\n",
            "\u001b[K     |████████████████████████████████| 438 kB 66.4 MB/s \n",
            "\u001b[?25hRequirement already satisfied: wheel<1.0,>=0.23.0 in /usr/local/lib/python3.7/dist-packages (from astunparse>=1.6.0->tensorflow-gpu) (0.37.1)\n",
            "Requirement already satisfied: cached-property in /usr/local/lib/python3.7/dist-packages (from h5py>=2.9.0->tensorflow-gpu) (1.5.2)\n",
            "Requirement already satisfied: tensorboard-data-server<0.7.0,>=0.6.0 in /usr/local/lib/python3.7/dist-packages (from tensorboard<2.11,>=2.10->tensorflow-gpu) (0.6.1)\n",
            "Requirement already satisfied: tensorboard-plugin-wit>=1.6.0 in /usr/local/lib/python3.7/dist-packages (from tensorboard<2.11,>=2.10->tensorflow-gpu) (1.8.1)\n",
            "Requirement already satisfied: requests<3,>=2.21.0 in /usr/local/lib/python3.7/dist-packages (from tensorboard<2.11,>=2.10->tensorflow-gpu) (2.23.0)\n",
            "Requirement already satisfied: werkzeug>=1.0.1 in /usr/local/lib/python3.7/dist-packages (from tensorboard<2.11,>=2.10->tensorflow-gpu) (1.0.1)\n",
            "Requirement already satisfied: google-auth-oauthlib<0.5,>=0.4.1 in /usr/local/lib/python3.7/dist-packages (from tensorboard<2.11,>=2.10->tensorflow-gpu) (0.4.6)\n",
            "Requirement already satisfied: google-auth<3,>=1.6.3 in /usr/local/lib/python3.7/dist-packages (from tensorboard<2.11,>=2.10->tensorflow-gpu) (1.35.0)\n",
            "Requirement already satisfied: markdown>=2.6.8 in /usr/local/lib/python3.7/dist-packages (from tensorboard<2.11,>=2.10->tensorflow-gpu) (3.4.1)\n",
            "Requirement already satisfied: rsa<5,>=3.1.4 in /usr/local/lib/python3.7/dist-packages (from google-auth<3,>=1.6.3->tensorboard<2.11,>=2.10->tensorflow-gpu) (4.9)\n",
            "Requirement already satisfied: pyasn1-modules>=0.2.1 in /usr/local/lib/python3.7/dist-packages (from google-auth<3,>=1.6.3->tensorboard<2.11,>=2.10->tensorflow-gpu) (0.2.8)\n",
            "Requirement already satisfied: cachetools<5.0,>=2.0.0 in /usr/local/lib/python3.7/dist-packages (from google-auth<3,>=1.6.3->tensorboard<2.11,>=2.10->tensorflow-gpu) (4.2.4)\n",
            "Requirement already satisfied: requests-oauthlib>=0.7.0 in /usr/local/lib/python3.7/dist-packages (from google-auth-oauthlib<0.5,>=0.4.1->tensorboard<2.11,>=2.10->tensorflow-gpu) (1.3.1)\n",
            "Requirement already satisfied: importlib-metadata>=4.4 in /usr/local/lib/python3.7/dist-packages (from markdown>=2.6.8->tensorboard<2.11,>=2.10->tensorflow-gpu) (4.12.0)\n",
            "Requirement already satisfied: zipp>=0.5 in /usr/local/lib/python3.7/dist-packages (from importlib-metadata>=4.4->markdown>=2.6.8->tensorboard<2.11,>=2.10->tensorflow-gpu) (3.8.1)\n",
            "Requirement already satisfied: pyasn1<0.5.0,>=0.4.6 in /usr/local/lib/python3.7/dist-packages (from pyasn1-modules>=0.2.1->google-auth<3,>=1.6.3->tensorboard<2.11,>=2.10->tensorflow-gpu) (0.4.8)\n",
            "Requirement already satisfied: chardet<4,>=3.0.2 in /usr/local/lib/python3.7/dist-packages (from requests<3,>=2.21.0->tensorboard<2.11,>=2.10->tensorflow-gpu) (3.0.4)\n",
            "Requirement already satisfied: idna<3,>=2.5 in /usr/local/lib/python3.7/dist-packages (from requests<3,>=2.21.0->tensorboard<2.11,>=2.10->tensorflow-gpu) (2.10)\n",
            "Requirement already satisfied: certifi>=2017.4.17 in /usr/local/lib/python3.7/dist-packages (from requests<3,>=2.21.0->tensorboard<2.11,>=2.10->tensorflow-gpu) (2022.6.15)\n",
            "Requirement already satisfied: urllib3!=1.25.0,!=1.25.1,<1.26,>=1.21.1 in /usr/local/lib/python3.7/dist-packages (from requests<3,>=2.21.0->tensorboard<2.11,>=2.10->tensorflow-gpu) (1.24.3)\n",
            "Requirement already satisfied: oauthlib>=3.0.0 in /usr/local/lib/python3.7/dist-packages (from requests-oauthlib>=0.7.0->google-auth-oauthlib<0.5,>=0.4.1->tensorboard<2.11,>=2.10->tensorflow-gpu) (3.2.0)\n",
            "Requirement already satisfied: pyparsing!=3.0.5,>=2.0.2 in /usr/local/lib/python3.7/dist-packages (from packaging->tensorflow-gpu) (3.0.9)\n",
            "Installing collected packages: tensorflow-estimator, tensorboard, keras, gast, tensorflow-gpu\n",
            "  Attempting uninstall: tensorflow-estimator\n",
            "    Found existing installation: tensorflow-estimator 2.8.0\n",
            "    Uninstalling tensorflow-estimator-2.8.0:\n",
            "      Successfully uninstalled tensorflow-estimator-2.8.0\n",
            "  Attempting uninstall: tensorboard\n",
            "    Found existing installation: tensorboard 2.8.0\n",
            "    Uninstalling tensorboard-2.8.0:\n",
            "      Successfully uninstalled tensorboard-2.8.0\n",
            "  Attempting uninstall: keras\n",
            "    Found existing installation: keras 2.8.0\n",
            "    Uninstalling keras-2.8.0:\n",
            "      Successfully uninstalled keras-2.8.0\n",
            "  Attempting uninstall: gast\n",
            "    Found existing installation: gast 0.5.3\n",
            "    Uninstalling gast-0.5.3:\n",
            "      Successfully uninstalled gast-0.5.3\n",
            "\u001b[31mERROR: pip's dependency resolver does not currently take into account all the packages that are installed. This behaviour is the source of the following dependency conflicts.\n",
            "tensorflow 2.8.2+zzzcolab20220719082949 requires keras<2.9,>=2.8.0rc0, but you have keras 2.10.0 which is incompatible.\n",
            "tensorflow 2.8.2+zzzcolab20220719082949 requires tensorboard<2.9,>=2.8, but you have tensorboard 2.10.0 which is incompatible.\n",
            "tensorflow 2.8.2+zzzcolab20220719082949 requires tensorflow-estimator<2.9,>=2.8, but you have tensorflow-estimator 2.10.0 which is incompatible.\u001b[0m\n",
            "Successfully installed gast-0.4.0 keras-2.10.0 tensorboard-2.10.0 tensorflow-estimator-2.10.0 tensorflow-gpu-2.10.0\n"
          ]
        }
      ]
    },
    {
      "cell_type": "code",
      "source": [
        "! apt install --allow-change-held-packages libcudnn8=8.1.0.77-1+cuda11.2"
      ],
      "metadata": {
        "colab": {
          "base_uri": "https://localhost:8080/"
        },
        "id": "Zko_ACU-KIs8",
        "outputId": "f4a2f29e-29f5-4afc-8d86-6cb298d3bb5d"
      },
      "execution_count": null,
      "outputs": [
        {
          "output_type": "stream",
          "name": "stdout",
          "text": [
            "Reading package lists... Done\n",
            "Building dependency tree       \n",
            "Reading state information... Done\n",
            "The following package was automatically installed and is no longer required:\n",
            "  libnvidia-common-460\n",
            "Use 'apt autoremove' to remove it.\n",
            "The following packages will be REMOVED:\n",
            "  libcudnn8-dev\n",
            "The following held packages will be changed:\n",
            "  libcudnn8\n",
            "The following packages will be upgraded:\n",
            "  libcudnn8\n",
            "1 upgraded, 0 newly installed, 1 to remove and 18 not upgraded.\n",
            "Need to get 430 MB of archives.\n",
            "After this operation, 3,139 MB disk space will be freed.\n",
            "Get:1 https://developer.download.nvidia.com/compute/cuda/repos/ubuntu1804/x86_64  libcudnn8 8.1.0.77-1+cuda11.2 [430 MB]\n",
            "Fetched 430 MB in 7s (59.6 MB/s)\n",
            "(Reading database ... 155569 files and directories currently installed.)\n",
            "Removing libcudnn8-dev (8.0.5.39-1+cuda11.1) ...\n",
            "(Reading database ... 155547 files and directories currently installed.)\n",
            "Preparing to unpack .../libcudnn8_8.1.0.77-1+cuda11.2_amd64.deb ...\n",
            "Unpacking libcudnn8 (8.1.0.77-1+cuda11.2) over (8.0.5.39-1+cuda11.1) ...\n",
            "Setting up libcudnn8 (8.1.0.77-1+cuda11.2) ...\n"
          ]
        }
      ]
    },
    {
      "cell_type": "code",
      "source": [
        "! pip install tensorflow-addons"
      ],
      "metadata": {
        "colab": {
          "base_uri": "https://localhost:8080/"
        },
        "id": "u1ul7C5X8F19",
        "outputId": "29f81063-2dca-493e-dd84-30cc0d79a697"
      },
      "execution_count": null,
      "outputs": [
        {
          "output_type": "stream",
          "name": "stdout",
          "text": [
            "Looking in indexes: https://pypi.org/simple, https://us-python.pkg.dev/colab-wheels/public/simple/\n",
            "Collecting tensorflow-addons\n",
            "  Downloading tensorflow_addons-0.17.1-cp37-cp37m-manylinux_2_17_x86_64.manylinux2014_x86_64.whl (1.1 MB)\n",
            "\u001b[K     |████████████████████████████████| 1.1 MB 2.6 MB/s \n",
            "\u001b[?25hRequirement already satisfied: typeguard>=2.7 in /usr/local/lib/python3.7/dist-packages (from tensorflow-addons) (2.7.1)\n",
            "Requirement already satisfied: packaging in /usr/local/lib/python3.7/dist-packages (from tensorflow-addons) (21.3)\n",
            "Requirement already satisfied: pyparsing!=3.0.5,>=2.0.2 in /usr/local/lib/python3.7/dist-packages (from packaging->tensorflow-addons) (3.0.9)\n",
            "Installing collected packages: tensorflow-addons\n",
            "Successfully installed tensorflow-addons-0.17.1\n"
          ]
        }
      ]
    },
    {
      "cell_type": "code",
      "source": [
        "import pandas as pd\n",
        "\n",
        "df = pd.read_excel(\"qry_fsus_trainingdata_ai.xlsx\")"
      ],
      "metadata": {
        "id": "vAT2mdxG1Wzc"
      },
      "execution_count": null,
      "outputs": []
    },
    {
      "cell_type": "code",
      "source": [
        "print(df.columns)"
      ],
      "metadata": {
        "colab": {
          "base_uri": "https://localhost:8080/"
        },
        "id": "KVJgHKkG1YnU",
        "outputId": "7cb3af48-e762-4be9-918e-2423740e4953"
      },
      "execution_count": null,
      "outputs": [
        {
          "output_type": "stream",
          "name": "stdout",
          "text": [
            "Index(['file', 'directory', 'imagequality', 'image_context'], dtype='object')\n"
          ]
        }
      ]
    },
    {
      "cell_type": "code",
      "source": [
        "classes = list(set(sum([v.split(';') for v in df[\"image_context\"] if type(v) == str], [])))\n",
        "classes.sort()\n",
        "class_dict = {v: i for i, v in enumerate(classes)}"
      ],
      "metadata": {
        "id": "XZSES7yR2u-e"
      },
      "execution_count": null,
      "outputs": []
    },
    {
      "cell_type": "code",
      "source": [
        "print(class_dict)"
      ],
      "metadata": {
        "colab": {
          "base_uri": "https://localhost:8080/"
        },
        "id": "VeelGdEZ3cSs",
        "outputId": "1440f212-6f2c-496c-be80-a68e46754948"
      },
      "execution_count": null,
      "outputs": [
        {
          "output_type": "stream",
          "name": "stdout",
          "text": [
            "{'aspect': 0, 'bud': 1, 'fall-color': 2, 'flower': 3, 'fruit': 4, 'leaf': 5, 'leaf-underside': 6, 'other': 7, 'root': 8, 'seed': 9, 'side-by-side': 10, 'stem': 11, 'venation': 12, 'vestiture': 13, 'whole-plant': 14}\n"
          ]
        }
      ]
    },
    {
      "cell_type": "code",
      "source": [
        "import numpy as np\n",
        "\n",
        "im_to_class = {}\n",
        "for idx, row in df.iterrows():\n",
        "  anno_bn = row[\"file\"]\n",
        "  try:\n",
        "    classes = row[\"image_context\"].split(';')\n",
        "  except AttributeError:\n",
        "    continue\n",
        "  \n",
        "  out_anno = np.zeros(15, dtype=int)\n",
        "  for class_ in classes:\n",
        "    class_idx = class_dict.get(class_)\n",
        "    out_anno[class_idx] = 1\n",
        "  \n",
        "  im_to_class[anno_bn] = out_anno"
      ],
      "metadata": {
        "id": "NEVA3wKk1cNw"
      },
      "execution_count": null,
      "outputs": []
    },
    {
      "cell_type": "code",
      "source": [
        "# from glob import glob\n",
        "# import os\n",
        "# from PIL import Image, UnidentifiedImageError\n",
        "# from tqdm.notebook import tqdm\n",
        "\n",
        "# X = []\n",
        "# y = []\n",
        "# for im_fn in glob(\"images/*.*\"):\n",
        "#   bn = os.path.basename(im_fn).split(\"__\")[1].replace(\".jpg\", '')\n",
        "#   bn = f\"{bn}.jpg\"\n",
        "#   try:\n",
        "#     y.append(im_to_class[bn])\n",
        "#     im = Image.open(im_fn)\n",
        "#     im = im.resize((331, 331))\n",
        "#     im = np.array(im, dtype=int)\n",
        "#   except KeyError or UnidentifiedImageError:\n",
        "#     continue\n",
        "\n",
        "#   X.append(im)"
      ],
      "metadata": {
        "id": "RrYijtrqJnGh"
      },
      "execution_count": null,
      "outputs": []
    },
    {
      "cell_type": "code",
      "source": [
        "from glob import glob\n",
        "import os\n",
        "from PIL import Image, UnidentifiedImageError\n",
        "from tqdm.notebook import tqdm\n",
        "\n",
        "flow_list = []\n",
        "for im_fn in glob(\"images/*.*\"):\n",
        "  bn = os.path.basename(im_fn).split(\"__\")[1].replace(\".jpg\", '')\n",
        "  bn = f\"{bn}.jpg\"\n",
        "  try:\n",
        "    y_val = [str(v) for v in im_to_class[bn]]\n",
        "  except KeyError:\n",
        "    continue\n",
        "\n",
        "  try:\n",
        "    im = Image.open(im_fn)\n",
        "  except UnidentifiedImageError:\n",
        "    continue\n",
        "\n",
        "  flow_list.append([im_fn] + y_val)"
      ],
      "metadata": {
        "id": "Y6fyUgEhzMWq"
      },
      "execution_count": null,
      "outputs": []
    },
    {
      "cell_type": "code",
      "source": [
        "flow_df = pd.DataFrame(np.array(flow_list), columns=[\"filenames\"] + list(class_dict.keys()))"
      ],
      "metadata": {
        "id": "l5Byuqd7zlLG"
      },
      "execution_count": null,
      "outputs": []
    },
    {
      "cell_type": "code",
      "source": [
        "flow_df = flow_df.astype({v: 'float' for v in class_dict.keys()})"
      ],
      "metadata": {
        "id": "7Ba659IC6JWI"
      },
      "execution_count": null,
      "outputs": []
    },
    {
      "cell_type": "code",
      "source": [
        "print(flow_df.head())"
      ],
      "metadata": {
        "colab": {
          "base_uri": "https://localhost:8080/"
        },
        "id": "ITCiaAms4Zyk",
        "outputId": "a96548f9-2932-4508-b109-b95190f4b674"
      },
      "execution_count": null,
      "outputs": [
        {
          "output_type": "stream",
          "name": "stdout",
          "text": [
            "                        filenames  aspect  bud  fall-color  flower  fruit  \\\n",
            "0  images/5115__rtw_11319.jpg.jpg     0.0  0.0         0.0     1.0    0.0   \n",
            "1   images/3180__eb_01388.jpg.jpg     0.0  0.0         0.0     1.0    0.0   \n",
            "2   images/4603__kb_02686.jpg.jpg     0.0  0.0         0.0     0.0    0.0   \n",
            "3  images/1196__bas_00826.jpg.jpg     1.0  0.0         0.0     0.0    0.0   \n",
            "4  images/6070__rtw_21549.jpg.jpg     0.0  0.0         0.0     1.0    0.0   \n",
            "\n",
            "   leaf  leaf-underside  other  root  seed  side-by-side  stem  venation  \\\n",
            "0   1.0             0.0    0.0   0.0   0.0           0.0   0.0       0.0   \n",
            "1   1.0             0.0    0.0   0.0   0.0           0.0   0.0       0.0   \n",
            "2   1.0             0.0    0.0   0.0   0.0           0.0   1.0       0.0   \n",
            "3   0.0             0.0    0.0   0.0   0.0           0.0   0.0       0.0   \n",
            "4   1.0             0.0    0.0   0.0   0.0           0.0   0.0       0.0   \n",
            "\n",
            "   vestiture  whole-plant  \n",
            "0        0.0          0.0  \n",
            "1        0.0          0.0  \n",
            "2        0.0          0.0  \n",
            "3        0.0          0.0  \n",
            "4        0.0          0.0  \n"
          ]
        }
      ]
    },
    {
      "cell_type": "code",
      "source": [
        "print(flow_df.dtypes)"
      ],
      "metadata": {
        "colab": {
          "base_uri": "https://localhost:8080/"
        },
        "id": "I7QR_xb86K5D",
        "outputId": "047b85cd-cae6-4a71-c889-02361c71a8e3"
      },
      "execution_count": null,
      "outputs": [
        {
          "output_type": "stream",
          "name": "stdout",
          "text": [
            "filenames          object\n",
            "aspect            float64\n",
            "bud               float64\n",
            "fall-color        float64\n",
            "flower            float64\n",
            "fruit             float64\n",
            "leaf              float64\n",
            "leaf-underside    float64\n",
            "other             float64\n",
            "root              float64\n",
            "seed              float64\n",
            "side-by-side      float64\n",
            "stem              float64\n",
            "venation          float64\n",
            "vestiture         float64\n",
            "whole-plant       float64\n",
            "dtype: object\n"
          ]
        }
      ]
    },
    {
      "cell_type": "code",
      "source": [
        "import tensorflow as tf\n",
        "from tensorflow.keras.models import Sequential\n",
        "from tensorflow.keras.applications.convnext import ConvNeXtLarge\n",
        "from tensorflow.keras.layers import Dense"
      ],
      "metadata": {
        "id": "mZnndA1PNoEE"
      },
      "execution_count": null,
      "outputs": []
    },
    {
      "cell_type": "markdown",
      "source": [
        "ConvNeXt top layer configured as such\n",
        "\n",
        "```\n",
        "    if include_top:\n",
        "        x = Head(num_classes=classes, name=model_name)(x)\n",
        "        imagenet_utils.validate_activation(classifier_activation, weights)\n",
        "    else:\n",
        "        if pooling == \"avg\":\n",
        "            x = layers.GlobalAveragePooling2D()(x)\n",
        "        elif pooling == \"max\":\n",
        "            x = layers.GlobalMaxPooling2D()(x)\n",
        "        x = layers.LayerNormalization(epsilon=1e-6)(x)\n",
        "```\n",
        "\n"
      ],
      "metadata": {
        "id": "Z6zFyp8YKhht"
      }
    },
    {
      "cell_type": "code",
      "execution_count": null,
      "metadata": {
        "id": "mMHrwfTNvpQI"
      },
      "outputs": [],
      "source": [
        "backbone = ConvNeXtLarge(input_shape=(448, 448, 3), include_top=False, weights='imagenet', pooling='avg')\n",
        "model = Sequential()\n",
        "model.add(backbone)\n",
        "model.add(Dense(512, activation=\"relu\"))\n",
        "model.add(Dense(15, activation=\"sigmoid\"))"
      ]
    },
    {
      "cell_type": "code",
      "source": [
        "import random\n",
        "\n",
        "def custom_prepro(npt):\n",
        "  ra = random.randint(0, 3)\n",
        "  npt = np.rot90(npt, ra)\n",
        "  return npt\n",
        "\n",
        "gen = tf.keras.preprocessing.image.ImageDataGenerator(\n",
        "    horizontal_flip=True,\n",
        "    vertical_flip=True,\n",
        "    rotation_range=10,\n",
        "    shear_range=10.0,\n",
        "    zoom_range=0.2,\n",
        "    preprocessing_function=custom_prepro\n",
        ")\n",
        "\n",
        "res = gen.flow_from_dataframe(\n",
        "    dataframe=flow_df,\n",
        "    x_col=\"filenames\",\n",
        "    y_col=list(class_dict.keys()),\n",
        "    batch_size=8,\n",
        "    seed=42,\n",
        "    shuffle=True,\n",
        "    class_mode=\"raw\",\n",
        "    target_size=(448,448))"
      ],
      "metadata": {
        "id": "h6VXvUH-CovN",
        "colab": {
          "base_uri": "https://localhost:8080/"
        },
        "outputId": "654c7fae-3c69-4940-a98a-db04a7426611"
      },
      "execution_count": null,
      "outputs": [
        {
          "output_type": "stream",
          "name": "stdout",
          "text": [
            "Found 8489 validated image filenames.\n"
          ]
        }
      ]
    },
    {
      "cell_type": "code",
      "source": [
        "# i = 0\n",
        "# for batch in gen.flow_from_dataframe(\n",
        "#     dataframe=flow_df,\n",
        "#     x_col=\"filenames\",\n",
        "#     y_col=list(class_dict.keys()),\n",
        "#     seed=42,\n",
        "#     shuffle=True,\n",
        "#     class_mode=\"raw\",\n",
        "#     target_size=(448,448),\n",
        "#     batch_size=1,\n",
        "#     save_to_dir='preview', \n",
        "#     save_prefix='ex', \n",
        "#     save_format='jpeg'):\n",
        "#       i += 1\n",
        "#       if i > 20:\n",
        "#           break  # otherwise the generator would loop indefinitely"
      ],
      "metadata": {
        "id": "KODv8-PfZmtI"
      },
      "execution_count": null,
      "outputs": []
    },
    {
      "cell_type": "code",
      "source": [
        "import tensorflow_addons as tfa\n",
        "\n",
        "opt = tfa.optimizers.AdaBelief(learning_rate=1e-3)\n",
        "model.compile(optimizer=opt, loss=\"binary_crossentropy\", metrics=\"categorical_accuracy\")\n",
        "model.fit(res, epochs=80)"
      ],
      "metadata": {
        "colab": {
          "base_uri": "https://localhost:8080/"
        },
        "id": "HcM91dCY9z5X",
        "outputId": "f9d72268-9320-4dd7-d3e3-501bbad894bb"
      },
      "execution_count": null,
      "outputs": [
        {
          "output_type": "stream",
          "name": "stderr",
          "text": [
            "/usr/local/lib/python3.7/dist-packages/tensorflow_addons/utils/ensure_tf_install.py:67: UserWarning: Tensorflow Addons supports using Python ops for all Tensorflow versions above or equal to 2.7.0 and strictly below 2.10.0 (nightly versions are not supported). \n",
            " The versions of TensorFlow you are currently using is 2.10.0 and is not supported. \n",
            "Some things might work, some things might not.\n",
            "If you were to encounter a bug, do not file an issue.\n",
            "If you want to make sure you're using a tested and supported configuration, either change the TensorFlow version or the TensorFlow Addons's version. \n",
            "You can find the compatibility matrix in TensorFlow Addon's readme:\n",
            "https://github.com/tensorflow/addons\n",
            "  UserWarning,\n"
          ]
        },
        {
          "output_type": "stream",
          "name": "stdout",
          "text": [
            "Epoch 1/80\n",
            "1062/1062 [==============================] - 719s 594ms/step - loss: 0.1934 - categorical_accuracy: 0.5611\n",
            "Epoch 2/80\n",
            "1062/1062 [==============================] - 629s 592ms/step - loss: 0.1840 - categorical_accuracy: 0.5648\n",
            "Epoch 3/80\n",
            "1062/1062 [==============================] - 629s 592ms/step - loss: 0.1814 - categorical_accuracy: 0.5746\n",
            "Epoch 4/80\n",
            "1062/1062 [==============================] - 630s 593ms/step - loss: 0.1796 - categorical_accuracy: 0.5733\n",
            "Epoch 5/80\n",
            "1062/1062 [==============================] - 630s 593ms/step - loss: 0.1754 - categorical_accuracy: 0.5835\n",
            "Epoch 6/80\n",
            "1062/1062 [==============================] - 629s 592ms/step - loss: 0.1716 - categorical_accuracy: 0.5924\n",
            "Epoch 7/80\n",
            "1062/1062 [==============================] - 629s 592ms/step - loss: 0.1681 - categorical_accuracy: 0.5969\n",
            "Epoch 8/80\n",
            "1062/1062 [==============================] - 629s 592ms/step - loss: 0.1620 - categorical_accuracy: 0.6082\n",
            "Epoch 9/80\n",
            "1062/1062 [==============================] - 629s 592ms/step - loss: 0.1589 - categorical_accuracy: 0.6129\n",
            "Epoch 10/80\n",
            "1062/1062 [==============================] - 629s 592ms/step - loss: 0.1537 - categorical_accuracy: 0.6294\n",
            "Epoch 11/80\n",
            "1062/1062 [==============================] - 629s 592ms/step - loss: 0.1485 - categorical_accuracy: 0.6395\n",
            "Epoch 12/80\n",
            "1062/1062 [==============================] - 631s 594ms/step - loss: 0.1442 - categorical_accuracy: 0.6445\n",
            "Epoch 13/80\n",
            "1062/1062 [==============================] - 631s 594ms/step - loss: 0.1370 - categorical_accuracy: 0.6647\n",
            "Epoch 14/80\n",
            "1062/1062 [==============================] - 632s 594ms/step - loss: 0.1327 - categorical_accuracy: 0.6667\n",
            "Epoch 15/80\n",
            "1062/1062 [==============================] - 631s 594ms/step - loss: 0.1277 - categorical_accuracy: 0.6710\n",
            "Epoch 16/80\n",
            "1062/1062 [==============================] - 631s 594ms/step - loss: 0.1220 - categorical_accuracy: 0.6825\n",
            "Epoch 17/80\n",
            "1062/1062 [==============================] - 631s 593ms/step - loss: 0.1141 - categorical_accuracy: 0.6949\n",
            "Epoch 18/80\n",
            "1062/1062 [==============================] - 631s 593ms/step - loss: 0.1080 - categorical_accuracy: 0.7011\n",
            "Epoch 19/80\n",
            "1062/1062 [==============================] - 630s 593ms/step - loss: 0.0997 - categorical_accuracy: 0.7135\n",
            "Epoch 20/80\n",
            "1062/1062 [==============================] - 630s 593ms/step - loss: 0.0944 - categorical_accuracy: 0.7163\n",
            "Epoch 21/80\n",
            "1062/1062 [==============================] - 631s 593ms/step - loss: 0.0865 - categorical_accuracy: 0.7207\n",
            "Epoch 22/80\n",
            "1062/1062 [==============================] - 631s 594ms/step - loss: 0.0816 - categorical_accuracy: 0.7338\n",
            "Epoch 23/80\n",
            "1062/1062 [==============================] - 631s 594ms/step - loss: 0.0741 - categorical_accuracy: 0.7436\n",
            "Epoch 24/80\n",
            "1062/1062 [==============================] - 630s 593ms/step - loss: 0.0691 - categorical_accuracy: 0.7463\n",
            "Epoch 25/80\n",
            "1062/1062 [==============================] - 630s 593ms/step - loss: 0.0626 - categorical_accuracy: 0.7473\n",
            "Epoch 26/80\n",
            "1062/1062 [==============================] - 630s 593ms/step - loss: 0.0575 - categorical_accuracy: 0.7558\n",
            "Epoch 27/80\n",
            "1062/1062 [==============================] - 630s 593ms/step - loss: 0.0536 - categorical_accuracy: 0.7556\n",
            "Epoch 28/80\n",
            "1062/1062 [==============================] - 630s 593ms/step - loss: 0.0495 - categorical_accuracy: 0.7506\n",
            "Epoch 29/80\n",
            "1062/1062 [==============================] - 630s 593ms/step - loss: 0.0458 - categorical_accuracy: 0.7556\n",
            "Epoch 30/80\n",
            "1062/1062 [==============================] - 630s 593ms/step - loss: 0.0437 - categorical_accuracy: 0.7524\n",
            "Epoch 31/80\n",
            "1062/1062 [==============================] - 630s 593ms/step - loss: 0.0438 - categorical_accuracy: 0.7578\n",
            "Epoch 32/80\n",
            "1062/1062 [==============================] - 630s 593ms/step - loss: 0.0392 - categorical_accuracy: 0.7715\n",
            "Epoch 33/80\n",
            "1062/1062 [==============================] - 630s 593ms/step - loss: 0.0344 - categorical_accuracy: 0.7648\n",
            "Epoch 34/80\n",
            "1062/1062 [==============================] - 630s 593ms/step - loss: 0.0331 - categorical_accuracy: 0.7628\n",
            "Epoch 35/80\n",
            "1062/1062 [==============================] - 630s 593ms/step - loss: 0.0313 - categorical_accuracy: 0.7697\n",
            "Epoch 36/80\n",
            "1062/1062 [==============================] - 630s 593ms/step - loss: 0.0299 - categorical_accuracy: 0.7693\n",
            "Epoch 37/80\n",
            "1062/1062 [==============================] - 630s 593ms/step - loss: 0.0291 - categorical_accuracy: 0.7613\n",
            "Epoch 38/80\n",
            "1062/1062 [==============================] - 631s 594ms/step - loss: 0.0278 - categorical_accuracy: 0.7632\n",
            "Epoch 39/80\n",
            "1062/1062 [==============================] - 631s 593ms/step - loss: 0.0280 - categorical_accuracy: 0.7633\n",
            "Epoch 40/80\n",
            "1062/1062 [==============================] - 630s 593ms/step - loss: 0.0256 - categorical_accuracy: 0.7764\n",
            "Epoch 41/80\n",
            "1062/1062 [==============================] - 630s 593ms/step - loss: 0.0235 - categorical_accuracy: 0.7728\n",
            "Epoch 42/80\n",
            "1062/1062 [==============================] - 631s 593ms/step - loss: 0.0231 - categorical_accuracy: 0.7643\n",
            "Epoch 43/80\n",
            "1062/1062 [==============================] - 630s 593ms/step - loss: 0.0217 - categorical_accuracy: 0.7809\n",
            "Epoch 44/80\n",
            "1062/1062 [==============================] - 631s 593ms/step - loss: 0.0220 - categorical_accuracy: 0.7607\n",
            "Epoch 45/80\n",
            "1062/1062 [==============================] - 630s 593ms/step - loss: 0.0201 - categorical_accuracy: 0.7688\n",
            "Epoch 46/80\n",
            "1062/1062 [==============================] - 629s 592ms/step - loss: 0.0197 - categorical_accuracy: 0.7737\n",
            "Epoch 47/80\n",
            "1062/1062 [==============================] - 631s 594ms/step - loss: 0.0189 - categorical_accuracy: 0.7722\n",
            "Epoch 48/80\n",
            "1062/1062 [==============================] - 631s 594ms/step - loss: 0.0178 - categorical_accuracy: 0.7792\n",
            "Epoch 49/80\n",
            "1062/1062 [==============================] - 630s 593ms/step - loss: 0.0174 - categorical_accuracy: 0.7824\n",
            "Epoch 50/80\n",
            "1062/1062 [==============================] - 630s 593ms/step - loss: 0.0176 - categorical_accuracy: 0.7825\n",
            "Epoch 51/80\n",
            "1062/1062 [==============================] - 630s 593ms/step - loss: 0.0167 - categorical_accuracy: 0.7716\n",
            "Epoch 52/80\n",
            "1062/1062 [==============================] - 630s 593ms/step - loss: 0.0156 - categorical_accuracy: 0.7777\n",
            "Epoch 53/80\n",
            "1062/1062 [==============================] - 630s 593ms/step - loss: 0.0161 - categorical_accuracy: 0.7814\n",
            "Epoch 54/80\n",
            "1062/1062 [==============================] - 629s 592ms/step - loss: 0.0164 - categorical_accuracy: 0.7661\n",
            "Epoch 55/80\n",
            "1062/1062 [==============================] - 630s 593ms/step - loss: 0.0150 - categorical_accuracy: 0.7632\n",
            "Epoch 56/80\n",
            "1062/1062 [==============================] - 630s 593ms/step - loss: 0.0155 - categorical_accuracy: 0.7526\n",
            "Epoch 57/80\n",
            "1062/1062 [==============================] - 630s 593ms/step - loss: 0.0143 - categorical_accuracy: 0.7693\n",
            "Epoch 58/80\n",
            "1062/1062 [==============================] - 630s 593ms/step - loss: 0.0141 - categorical_accuracy: 0.7832\n",
            "Epoch 59/80\n",
            "1062/1062 [==============================] - 630s 593ms/step - loss: 0.0133 - categorical_accuracy: 0.7692\n",
            "Epoch 60/80\n",
            "1062/1062 [==============================] - 630s 593ms/step - loss: 0.0167 - categorical_accuracy: 0.7443\n",
            "Epoch 61/80\n",
            "1062/1062 [==============================] - 630s 593ms/step - loss: 0.0125 - categorical_accuracy: 0.7645\n",
            "Epoch 62/80\n",
            "1062/1062 [==============================] - 630s 593ms/step - loss: 0.0132 - categorical_accuracy: 0.7894\n",
            "Epoch 63/80\n",
            "1062/1062 [==============================] - 630s 593ms/step - loss: 0.0125 - categorical_accuracy: 0.7712\n",
            "Epoch 64/80\n",
            "1062/1062 [==============================] - 629s 592ms/step - loss: 0.0121 - categorical_accuracy: 0.7701\n",
            "Epoch 65/80\n",
            "1062/1062 [==============================] - 630s 593ms/step - loss: 0.0123 - categorical_accuracy: 0.7748\n",
            "Epoch 66/80\n",
            "1062/1062 [==============================] - 630s 593ms/step - loss: 0.0130 - categorical_accuracy: 0.7716\n",
            "Epoch 67/80\n",
            "1062/1062 [==============================] - 630s 593ms/step - loss: 0.0116 - categorical_accuracy: 0.7673\n",
            "Epoch 68/80\n",
            "1062/1062 [==============================] - 630s 593ms/step - loss: 0.0110 - categorical_accuracy: 0.7689\n",
            "Epoch 69/80\n",
            "1062/1062 [==============================] - 630s 593ms/step - loss: 0.0116 - categorical_accuracy: 0.7658\n",
            "Epoch 70/80\n",
            "1062/1062 [==============================] - 630s 593ms/step - loss: 0.0101 - categorical_accuracy: 0.7652\n",
            "Epoch 71/80\n",
            "1062/1062 [==============================] - 630s 593ms/step - loss: 0.0124 - categorical_accuracy: 0.7703\n",
            "Epoch 72/80\n",
            "1062/1062 [==============================] - 630s 593ms/step - loss: 0.0113 - categorical_accuracy: 0.7711\n",
            "Epoch 73/80\n",
            "1062/1062 [==============================] - 629s 592ms/step - loss: 0.0106 - categorical_accuracy: 0.7771\n",
            "Epoch 74/80\n",
            "1062/1062 [==============================] - 630s 592ms/step - loss: 0.0108 - categorical_accuracy: 0.7735\n",
            "Epoch 75/80\n",
            "1062/1062 [==============================] - 630s 593ms/step - loss: 0.0102 - categorical_accuracy: 0.7856\n",
            "Epoch 76/80\n",
            "1062/1062 [==============================] - 630s 593ms/step - loss: 0.0100 - categorical_accuracy: 0.7679\n",
            "Epoch 77/80\n",
            "1062/1062 [==============================] - 630s 593ms/step - loss: 0.0101 - categorical_accuracy: 0.7666\n",
            "Epoch 78/80\n",
            "1062/1062 [==============================] - 630s 593ms/step - loss: 0.0106 - categorical_accuracy: 0.7832\n",
            "Epoch 79/80\n",
            "1062/1062 [==============================] - 631s 593ms/step - loss: 0.0093 - categorical_accuracy: 0.7723\n",
            "Epoch 80/80\n",
            "1062/1062 [==============================] - 630s 593ms/step - loss: 0.0098 - categorical_accuracy: 0.7853\n"
          ]
        },
        {
          "output_type": "execute_result",
          "data": {
            "text/plain": [
              "<keras.callbacks.History at 0x7f57f53ec4d0>"
            ]
          },
          "metadata": {},
          "execution_count": 16
        }
      ]
    },
    {
      "cell_type": "code",
      "source": [
        "model.save(\"/content/drive/MyDrive/UNC/NCBG/mp_2b\")"
      ],
      "metadata": {
        "id": "gFlgo9NODZOm",
        "colab": {
          "base_uri": "https://localhost:8080/"
        },
        "outputId": "248ca3be-0e8c-4afe-bed6-a0c3a22e1b32"
      },
      "execution_count": null,
      "outputs": [
        {
          "output_type": "stream",
          "name": "stderr",
          "text": [
            "WARNING:absl:Found untraced functions such as _jit_compiled_convolution_op, _jit_compiled_convolution_op, _jit_compiled_convolution_op, _jit_compiled_convolution_op while saving (showing 4 of 4). These functions will not be directly callable after loading.\n"
          ]
        }
      ]
    },
    {
      "cell_type": "code",
      "source": [],
      "metadata": {
        "id": "1UqTamWI8hAA"
      },
      "execution_count": null,
      "outputs": []
    }
  ],
  "metadata": {
    "accelerator": "GPU",
    "colab": {
      "background_execution": "on",
      "collapsed_sections": [],
      "provenance": [],
      "mount_file_id": "19634mHkPZVIFYf7zWJAfpha11wLXYui_",
      "authorship_tag": "ABX9TyPpgpr4qfgSR7nWKZHdR+GK",
      "include_colab_link": true
    },
    "gpuClass": "standard",
    "kernelspec": {
      "display_name": "Python 3",
      "name": "python3"
    },
    "language_info": {
      "name": "python"
    }
  },
  "nbformat": 4,
  "nbformat_minor": 0
}