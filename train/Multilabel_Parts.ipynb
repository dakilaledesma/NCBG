{
  "cells": [
    {
      "cell_type": "markdown",
      "metadata": {
        "id": "view-in-github",
        "colab_type": "text"
      },
      "source": [
        "<a href=\"https://colab.research.google.com/github/dakilaledesma/NCBG/blob/main/train/Multilabel_Parts.ipynb\" target=\"_parent\"><img src=\"https://colab.research.google.com/assets/colab-badge.svg\" alt=\"Open In Colab\"/></a>"
      ]
    },
    {
      "cell_type": "code",
      "execution_count": 1,
      "metadata": {
        "colab": {
          "base_uri": "https://localhost:8080/"
        },
        "id": "4RBv2CGN3gJv",
        "outputId": "a14a5b0c-a296-41c5-acb9-bff353adb466"
      },
      "outputs": [
        {
          "output_type": "stream",
          "name": "stdout",
          "text": [
            "CPU times: user 44.8 ms, sys: 17.2 ms, total: 62 ms\n",
            "Wall time: 6.35 s\n"
          ]
        }
      ],
      "source": [
        "%%time\n",
        "! unzip -q /content/drive/MyDrive/UNC/NCBG/sept1_classif_training.zip -d /content\n",
        "! cp /content/drive/MyDrive/UNC/NCBG/qry_fsus_trainingdata_ai.xlsx /content/qry_fsus_trainingdata_ai.xlsx"
      ]
    },
    {
      "cell_type": "code",
      "source": [
        "! mv /content/content/images /content/images\n",
        "! rm -rf /content/content"
      ],
      "metadata": {
        "id": "828eULKmJzax"
      },
      "execution_count": 2,
      "outputs": []
    },
    {
      "cell_type": "code",
      "source": [
        "import pandas as pd\n",
        "\n",
        "df = pd.read_excel(\"qry_fsus_trainingdata_ai.xlsx\")"
      ],
      "metadata": {
        "id": "vAT2mdxG1Wzc"
      },
      "execution_count": 3,
      "outputs": []
    },
    {
      "cell_type": "code",
      "source": [
        "print(df.columns)"
      ],
      "metadata": {
        "colab": {
          "base_uri": "https://localhost:8080/"
        },
        "id": "KVJgHKkG1YnU",
        "outputId": "20a46d39-cbe2-4dea-904b-52aed4d4d858"
      },
      "execution_count": 4,
      "outputs": [
        {
          "output_type": "stream",
          "name": "stdout",
          "text": [
            "Index(['file', 'directory', 'imagequality', 'image_context'], dtype='object')\n"
          ]
        }
      ]
    },
    {
      "cell_type": "code",
      "source": [
        "classes = list(set(sum([v.split(';') for v in df[\"image_context\"] if type(v) == str], [])))\n",
        "classes.sort()\n",
        "class_dict = {v: i for i, v in enumerate(classes)}"
      ],
      "metadata": {
        "id": "XZSES7yR2u-e"
      },
      "execution_count": 5,
      "outputs": []
    },
    {
      "cell_type": "code",
      "source": [
        "print(class_dict)"
      ],
      "metadata": {
        "colab": {
          "base_uri": "https://localhost:8080/"
        },
        "id": "VeelGdEZ3cSs",
        "outputId": "6e8c24c1-39f1-4f5c-b994-747835c906df"
      },
      "execution_count": 6,
      "outputs": [
        {
          "output_type": "stream",
          "name": "stdout",
          "text": [
            "{'aspect': 0, 'bud': 1, 'fall-color': 2, 'flower': 3, 'fruit': 4, 'leaf': 5, 'leaf-underside': 6, 'other': 7, 'root': 8, 'seed': 9, 'side-by-side': 10, 'stem': 11, 'venation': 12, 'vestiture': 13, 'whole-plant': 14}\n"
          ]
        }
      ]
    },
    {
      "cell_type": "code",
      "source": [
        "import numpy as np\n",
        "\n",
        "im_to_class = {}\n",
        "for idx, row in df.iterrows():\n",
        "  anno_bn = row[\"file\"]\n",
        "  try:\n",
        "    classes = row[\"image_context\"].split(';')\n",
        "  except AttributeError:\n",
        "    continue\n",
        "  \n",
        "  out_anno = np.zeros(15, dtype=int)\n",
        "  for class_ in classes:\n",
        "    class_idx = class_dict.get(class_)\n",
        "    out_anno[class_idx] = 1\n",
        "  \n",
        "  im_to_class[anno_bn] = out_anno"
      ],
      "metadata": {
        "id": "NEVA3wKk1cNw"
      },
      "execution_count": 7,
      "outputs": []
    },
    {
      "cell_type": "code",
      "source": [
        "from glob import glob\n",
        "import os\n",
        "from PIL import Image, UnidentifiedImageError\n",
        "from tqdm.notebook import tqdm\n",
        "\n",
        "X = []\n",
        "y = []\n",
        "for im_fn in glob(\"images/*.*\"):\n",
        "  bn = os.path.basename(im_fn).split(\"__\")[1].replace(\".jpg\", '')\n",
        "  bn = f\"{bn}.jpg\"\n",
        "  try:\n",
        "    y.append(im_to_class[bn])\n",
        "    im = Image.open(im_fn)\n",
        "    im = im.resize((331, 331))\n",
        "    im = np.array(im, dtype=int)\n",
        "  except KeyError or UnidentifiedImageError:\n",
        "    continue\n",
        "\n",
        "  X.append(im)"
      ],
      "metadata": {
        "id": "RrYijtrqJnGh"
      },
      "execution_count": 8,
      "outputs": []
    },
    {
      "cell_type": "code",
      "source": [
        "print(len(X), len(y))"
      ],
      "metadata": {
        "colab": {
          "base_uri": "https://localhost:8080/"
        },
        "id": "I7QR_xb86K5D",
        "outputId": "a146c163-eddb-4008-ed6a-0753a3465fef"
      },
      "execution_count": 9,
      "outputs": [
        {
          "output_type": "stream",
          "name": "stdout",
          "text": [
            "8489 8489\n"
          ]
        }
      ]
    },
    {
      "cell_type": "code",
      "source": [
        "X = np.array(X, dtype=int)\n",
        "y = np.array(y, dtype=int)"
      ],
      "metadata": {
        "id": "wqDRTeQo7M3V"
      },
      "execution_count": 10,
      "outputs": []
    },
    {
      "cell_type": "code",
      "execution_count": 11,
      "metadata": {
        "id": "mMHrwfTNvpQI",
        "colab": {
          "base_uri": "https://localhost:8080/"
        },
        "outputId": "1c062cfd-aef4-4725-fb18-e9e84a881d14"
      },
      "outputs": [
        {
          "output_type": "stream",
          "name": "stdout",
          "text": [
            "Downloading data from https://storage.googleapis.com/tensorflow/keras-applications/nasnet/NASNet-large-no-top.h5\n",
            "343613440/343610240 [==============================] - 7s 0us/step\n",
            "343621632/343610240 [==============================] - 7s 0us/step\n"
          ]
        }
      ],
      "source": [
        "import tensorflow as tf\n",
        "from tensorflow.keras.models import Sequential\n",
        "from tensorflow.keras.applications import NASNetLarge\n",
        "from tensorflow.keras.layers import Dense\n",
        "\n",
        "nasnet = NASNetLarge(input_shape=(331, 331, 3), include_top=False, pooling='avg')\n",
        "model = Sequential()\n",
        "model.add(nasnet)\n",
        "model.add(Dense(15, activation=\"sigmoid\"))"
      ]
    },
    {
      "cell_type": "code",
      "source": [
        "print(X.shape, y.shape)"
      ],
      "metadata": {
        "colab": {
          "base_uri": "https://localhost:8080/"
        },
        "id": "ZE84FZnIAs3s",
        "outputId": "8d8e5aa6-9231-474d-c777-93729d52e05f"
      },
      "execution_count": 12,
      "outputs": [
        {
          "output_type": "stream",
          "name": "stdout",
          "text": [
            "(8489, 331, 331, 3) (8489, 15)\n"
          ]
        }
      ]
    },
    {
      "cell_type": "code",
      "source": [
        "gen = tf.keras.preprocessing.image.ImageDataGenerator()\n",
        "res = gen.flow(X, y)\n",
        "x1, y1 = next(res)"
      ],
      "metadata": {
        "id": "h6VXvUH-CovN"
      },
      "execution_count": 13,
      "outputs": []
    },
    {
      "cell_type": "code",
      "source": [
        "model.compile(optimizer=\"adam\", loss=\"binary_crossentropy\", metrics=\"acc\")\n",
        "model.fit(x=x1, y=y1, batch_size=16, epochs=80)"
      ],
      "metadata": {
        "colab": {
          "base_uri": "https://localhost:8080/"
        },
        "id": "HcM91dCY9z5X",
        "outputId": "b38760fd-01a6-4ce6-fdd1-046d4436e977"
      },
      "execution_count": 14,
      "outputs": [
        {
          "output_type": "stream",
          "name": "stdout",
          "text": [
            "Epoch 1/80\n",
            "2/2 [==============================] - 42s 900ms/step - loss: 0.5566 - acc: 0.3750\n",
            "Epoch 2/80\n",
            "2/2 [==============================] - 2s 899ms/step - loss: 0.1957 - acc: 0.6562\n",
            "Epoch 3/80\n",
            "2/2 [==============================] - 2s 924ms/step - loss: 0.0759 - acc: 0.8125\n",
            "Epoch 4/80\n",
            "2/2 [==============================] - 2s 909ms/step - loss: 0.0145 - acc: 0.8125\n",
            "Epoch 5/80\n",
            "2/2 [==============================] - 2s 914ms/step - loss: 0.0033 - acc: 0.7812\n",
            "Epoch 6/80\n",
            "2/2 [==============================] - 2s 928ms/step - loss: 0.0019 - acc: 0.7500\n",
            "Epoch 7/80\n",
            "2/2 [==============================] - 2s 931ms/step - loss: 0.0011 - acc: 0.8125\n",
            "Epoch 8/80\n",
            "2/2 [==============================] - 2s 948ms/step - loss: 8.2322e-04 - acc: 0.7812\n",
            "Epoch 9/80\n",
            "2/2 [==============================] - 2s 923ms/step - loss: 5.4925e-04 - acc: 0.7188\n",
            "Epoch 10/80\n",
            "2/2 [==============================] - 2s 922ms/step - loss: 2.2682e-04 - acc: 0.7188\n",
            "Epoch 11/80\n",
            "2/2 [==============================] - 2s 923ms/step - loss: 1.5332e-04 - acc: 0.7812\n",
            "Epoch 12/80\n",
            "2/2 [==============================] - 2s 922ms/step - loss: 1.6694e-04 - acc: 0.6562\n",
            "Epoch 13/80\n",
            "2/2 [==============================] - 2s 899ms/step - loss: 1.9401e-04 - acc: 0.7188\n",
            "Epoch 14/80\n",
            "2/2 [==============================] - 2s 906ms/step - loss: 0.0022 - acc: 0.6562\n",
            "Epoch 15/80\n",
            "2/2 [==============================] - 2s 922ms/step - loss: 0.0021 - acc: 0.7188\n",
            "Epoch 16/80\n",
            "2/2 [==============================] - 2s 931ms/step - loss: 0.0141 - acc: 0.7500\n",
            "Epoch 17/80\n",
            "2/2 [==============================] - 2s 914ms/step - loss: 0.0020 - acc: 0.7500\n",
            "Epoch 18/80\n",
            "2/2 [==============================] - 2s 929ms/step - loss: 0.0053 - acc: 0.7812\n",
            "Epoch 19/80\n",
            "2/2 [==============================] - 2s 922ms/step - loss: 0.0337 - acc: 0.8438\n",
            "Epoch 20/80\n",
            "2/2 [==============================] - 2s 933ms/step - loss: 0.0236 - acc: 0.8125\n",
            "Epoch 21/80\n",
            "2/2 [==============================] - 2s 950ms/step - loss: 0.0246 - acc: 0.8125\n",
            "Epoch 22/80\n",
            "2/2 [==============================] - 2s 902ms/step - loss: 0.0173 - acc: 0.7812\n",
            "Epoch 23/80\n",
            "2/2 [==============================] - 2s 923ms/step - loss: 0.0319 - acc: 0.7188\n",
            "Epoch 24/80\n",
            "2/2 [==============================] - 2s 907ms/step - loss: 0.0130 - acc: 0.8750\n",
            "Epoch 25/80\n",
            "2/2 [==============================] - 2s 924ms/step - loss: 0.0500 - acc: 0.7812\n",
            "Epoch 26/80\n",
            "2/2 [==============================] - 2s 932ms/step - loss: 0.1242 - acc: 0.7188\n",
            "Epoch 27/80\n",
            "2/2 [==============================] - 2s 922ms/step - loss: 0.2369 - acc: 0.7188\n",
            "Epoch 28/80\n",
            "2/2 [==============================] - 2s 914ms/step - loss: 0.1313 - acc: 0.5938\n",
            "Epoch 29/80\n",
            "2/2 [==============================] - 2s 923ms/step - loss: 0.0779 - acc: 0.7188\n",
            "Epoch 30/80\n",
            "2/2 [==============================] - 2s 916ms/step - loss: 0.0750 - acc: 0.7188\n",
            "Epoch 31/80\n",
            "2/2 [==============================] - 2s 946ms/step - loss: 0.0776 - acc: 0.7188\n",
            "Epoch 32/80\n",
            "2/2 [==============================] - 2s 938ms/step - loss: 0.0586 - acc: 0.8125\n",
            "Epoch 33/80\n",
            "2/2 [==============================] - 2s 921ms/step - loss: 0.0573 - acc: 0.6875\n",
            "Epoch 34/80\n",
            "2/2 [==============================] - 2s 942ms/step - loss: 0.0754 - acc: 0.7812\n",
            "Epoch 35/80\n",
            "2/2 [==============================] - 2s 907ms/step - loss: 0.0415 - acc: 0.7500\n",
            "Epoch 36/80\n",
            "2/2 [==============================] - 2s 929ms/step - loss: 0.0354 - acc: 0.8438\n",
            "Epoch 37/80\n",
            "2/2 [==============================] - 2s 922ms/step - loss: 0.0267 - acc: 0.7500\n",
            "Epoch 38/80\n",
            "2/2 [==============================] - 2s 914ms/step - loss: 0.0226 - acc: 0.7500\n",
            "Epoch 39/80\n",
            "2/2 [==============================] - 2s 923ms/step - loss: 0.0110 - acc: 0.8125\n",
            "Epoch 40/80\n",
            "2/2 [==============================] - 2s 938ms/step - loss: 0.0118 - acc: 0.7500\n",
            "Epoch 41/80\n",
            "2/2 [==============================] - 2s 920ms/step - loss: 0.0053 - acc: 0.7500\n",
            "Epoch 42/80\n",
            "2/2 [==============================] - 2s 923ms/step - loss: 0.0125 - acc: 0.7188\n",
            "Epoch 43/80\n",
            "2/2 [==============================] - 2s 926ms/step - loss: 0.0377 - acc: 0.7188\n",
            "Epoch 44/80\n",
            "2/2 [==============================] - 2s 933ms/step - loss: 0.0083 - acc: 0.7188\n",
            "Epoch 45/80\n",
            "2/2 [==============================] - 2s 921ms/step - loss: 0.0273 - acc: 0.7188\n",
            "Epoch 46/80\n",
            "2/2 [==============================] - 2s 908ms/step - loss: 0.0262 - acc: 0.7812\n",
            "Epoch 47/80\n",
            "2/2 [==============================] - 2s 922ms/step - loss: 0.0018 - acc: 0.8438\n",
            "Epoch 48/80\n",
            "2/2 [==============================] - 2s 904ms/step - loss: 0.0026 - acc: 0.8125\n",
            "Epoch 49/80\n",
            "2/2 [==============================] - 2s 923ms/step - loss: 0.0261 - acc: 0.7188\n",
            "Epoch 50/80\n",
            "2/2 [==============================] - 2s 900ms/step - loss: 0.0046 - acc: 0.7812\n",
            "Epoch 51/80\n",
            "2/2 [==============================] - 2s 899ms/step - loss: 0.0195 - acc: 0.7812\n",
            "Epoch 52/80\n",
            "2/2 [==============================] - 2s 915ms/step - loss: 0.0163 - acc: 0.8125\n",
            "Epoch 53/80\n",
            "2/2 [==============================] - 2s 920ms/step - loss: 0.0098 - acc: 0.7188\n",
            "Epoch 54/80\n",
            "2/2 [==============================] - 2s 926ms/step - loss: 0.0111 - acc: 0.8438\n",
            "Epoch 55/80\n",
            "2/2 [==============================] - 2s 914ms/step - loss: 0.0038 - acc: 0.7812\n",
            "Epoch 56/80\n",
            "2/2 [==============================] - 2s 935ms/step - loss: 0.0948 - acc: 0.8750\n",
            "Epoch 57/80\n",
            "2/2 [==============================] - 2s 922ms/step - loss: 0.0802 - acc: 0.7500\n",
            "Epoch 58/80\n",
            "2/2 [==============================] - 2s 905ms/step - loss: 0.0141 - acc: 0.8125\n",
            "Epoch 59/80\n",
            "2/2 [==============================] - 2s 920ms/step - loss: 0.0262 - acc: 0.7500\n",
            "Epoch 60/80\n",
            "2/2 [==============================] - 2s 929ms/step - loss: 0.0178 - acc: 0.7500\n",
            "Epoch 61/80\n",
            "2/2 [==============================] - 2s 900ms/step - loss: 0.0494 - acc: 0.8125\n",
            "Epoch 62/80\n",
            "2/2 [==============================] - 2s 921ms/step - loss: 0.0885 - acc: 0.6875\n",
            "Epoch 63/80\n",
            "2/2 [==============================] - 2s 926ms/step - loss: 0.0893 - acc: 0.6875\n",
            "Epoch 64/80\n",
            "2/2 [==============================] - 2s 907ms/step - loss: 0.0358 - acc: 0.8125\n",
            "Epoch 65/80\n",
            "2/2 [==============================] - 2s 950ms/step - loss: 0.0916 - acc: 0.7500\n",
            "Epoch 66/80\n",
            "2/2 [==============================] - 2s 922ms/step - loss: 0.0404 - acc: 0.7500\n",
            "Epoch 67/80\n",
            "2/2 [==============================] - 2s 932ms/step - loss: 0.0527 - acc: 0.6875\n",
            "Epoch 68/80\n",
            "2/2 [==============================] - 2s 905ms/step - loss: 0.0228 - acc: 0.8438\n",
            "Epoch 69/80\n",
            "2/2 [==============================] - 2s 932ms/step - loss: 0.0375 - acc: 0.7188\n",
            "Epoch 70/80\n",
            "2/2 [==============================] - 2s 930ms/step - loss: 0.0249 - acc: 0.7812\n",
            "Epoch 71/80\n",
            "2/2 [==============================] - 2s 922ms/step - loss: 0.0459 - acc: 0.6875\n",
            "Epoch 72/80\n",
            "2/2 [==============================] - 2s 921ms/step - loss: 0.0239 - acc: 0.8438\n",
            "Epoch 73/80\n",
            "2/2 [==============================] - 2s 909ms/step - loss: 0.0482 - acc: 0.7188\n",
            "Epoch 74/80\n",
            "2/2 [==============================] - 2s 906ms/step - loss: 0.0949 - acc: 0.8125\n",
            "Epoch 75/80\n",
            "2/2 [==============================] - 2s 899ms/step - loss: 0.0209 - acc: 0.7812\n",
            "Epoch 76/80\n",
            "2/2 [==============================] - 2s 899ms/step - loss: 0.0750 - acc: 0.7812\n",
            "Epoch 77/80\n",
            "2/2 [==============================] - 2s 908ms/step - loss: 0.0348 - acc: 0.7500\n",
            "Epoch 78/80\n",
            "2/2 [==============================] - 2s 925ms/step - loss: 0.0148 - acc: 0.8125\n",
            "Epoch 79/80\n",
            "2/2 [==============================] - 2s 921ms/step - loss: 0.0244 - acc: 0.9062\n",
            "Epoch 80/80\n",
            "2/2 [==============================] - 2s 929ms/step - loss: 0.0204 - acc: 0.8750\n"
          ]
        },
        {
          "output_type": "execute_result",
          "data": {
            "text/plain": [
              "<keras.callbacks.History at 0x7f5e8f2a3e10>"
            ]
          },
          "metadata": {},
          "execution_count": 14
        }
      ]
    },
    {
      "cell_type": "code",
      "source": [],
      "metadata": {
        "id": "GHyfpoQX-tuj"
      },
      "execution_count": 14,
      "outputs": []
    },
    {
      "cell_type": "code",
      "source": [
        "model.save(\"/content/drive/MyDrive/UNC/NCBG/mp_1\")"
      ],
      "metadata": {
        "colab": {
          "base_uri": "https://localhost:8080/"
        },
        "id": "gFlgo9NODZOm",
        "outputId": "9867e21d-5966-4723-8cb3-12f3e003459a"
      },
      "execution_count": 15,
      "outputs": [
        {
          "output_type": "stream",
          "name": "stderr",
          "text": [
            "WARNING:absl:Function `_wrapped_model` contains input name(s) NASNet_input with unsupported characters which will be renamed to nasnet_input in the SavedModel.\n"
          ]
        }
      ]
    }
  ],
  "metadata": {
    "accelerator": "GPU",
    "colab": {
      "background_execution": "on",
      "collapsed_sections": [],
      "provenance": [],
      "machine_shape": "hm",
      "mount_file_id": "1t_2PGlf9diC3KrBY94iFppXuiw-0l2oA",
      "authorship_tag": "ABX9TyMfjkJYCKtVkMJafD7UAAX3",
      "include_colab_link": true
    },
    "gpuClass": "standard",
    "kernelspec": {
      "display_name": "Python 3",
      "name": "python3"
    },
    "language_info": {
      "name": "python"
    }
  },
  "nbformat": 4,
  "nbformat_minor": 0
}