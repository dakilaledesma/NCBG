{
  "cells": [
    {
      "cell_type": "markdown",
      "metadata": {
        "id": "view-in-github",
        "colab_type": "text"
      },
      "source": [
        "<a href=\"https://colab.research.google.com/github/dakilaledesma/NCBG/blob/main/tools/Image_Downloader.ipynb\" target=\"_parent\"><img src=\"https://colab.research.google.com/assets/colab-badge.svg\" alt=\"Open In Colab\"/></a>"
      ]
    },
    {
      "cell_type": "code",
      "execution_count": null,
      "metadata": {
        "id": "hvZCKmYWIdcO"
      },
      "outputs": [],
      "source": [
        "! cp /content/drive/MyDrive/UNC/NCBG/qry_fsus_trainingdata_ai.xlsx /content/qry_fsus_trainingdata_ai.xlsx"
      ]
    },
    {
      "cell_type": "code",
      "execution_count": null,
      "metadata": {
        "id": "bBBwaZTdIz1S"
      },
      "outputs": [],
      "source": [
        "import pandas as pd\n",
        "\n",
        "image_df = pd.read_excel(\"qry_fsus_trainingdata_ai.xlsx\")"
      ]
    },
    {
      "cell_type": "code",
      "source": [
        "print(image_df.head())"
      ],
      "metadata": {
        "colab": {
          "base_uri": "https://localhost:8080/"
        },
        "id": "8c5NIiMwDk7B",
        "outputId": "1c14f858-4f1d-46de-a955-fe4e37daf038"
      },
      "execution_count": null,
      "outputs": [
        {
          "output_type": "stream",
          "name": "stdout",
          "text": [
            "                     file directory  imagequality  \\\n",
            "0  justice_slide_0001.jpg       wsj           1.0   \n",
            "1  justice_slide_0002.jpg       wsj           1.0   \n",
            "2  justice_slide_0004.jpg       wsj           5.0   \n",
            "3  justice_slide_0006.jpg       wsj           5.0   \n",
            "4  justice_slide_0007.jpg       wsj          10.0   \n",
            "\n",
            "                          image_context  \n",
            "0                                   NaN  \n",
            "1                                   NaN  \n",
            "2                      aspect;leaf;stem  \n",
            "3                          flower;fruit  \n",
            "4  aspect;flower;fruit;leaf;whole-plant  \n"
          ]
        }
      ]
    },
    {
      "cell_type": "code",
      "source": [
        "import os\n",
        "from tqdm.notebook import tqdm\n",
        "from urllib import request\n",
        "import time\n",
        "from collections import defaultdict\n",
        "import io\n",
        "from PIL import Image\n",
        "\n",
        "for idx, row in tqdm(image_df.iterrows(), total=len(image_df)):\n",
        "  im_bn = row[\"file\"]\n",
        "  directory = row[\"directory\"]\n",
        "  im_url = f\"https://fsus.ncbg.unc.edu/img/600/{directory}/{im_bn}\"\n",
        "  path = f\"images/\"\n",
        "\n",
        "  try:\n",
        "    req = request.urlopen(request.Request(im_url)).read()\n",
        "  except:\n",
        "    pass\n",
        "\n",
        "  try:\n",
        "    im = Image.open(io.BytesIO(req))\n",
        "    im.thumbnail([600, 600])\n",
        "    \n",
        "    if not os.path.isdir(path):\n",
        "      os.makedirs(path)\n",
        "\n",
        "    im.save(f\"{path}/{idx}__{im_bn}.jpg\")\n",
        "  except:\n",
        "    pass\n",
        "\n",
        "  time.sleep(0.5)"
      ],
      "metadata": {
        "colab": {
          "base_uri": "https://localhost:8080/",
          "height": 49,
          "referenced_widgets": [
            "895a96a50be744868b2ff0a5b0053bef",
            "49a0d7dc248341ef8e54f85ab0fc1c86",
            "f4d1c2c2b08348a08d7d8eaed082ff1f",
            "2e514a098a8745a49fb527d959c058e1",
            "30466dd6c2d443af8774d5d99479363c",
            "10840f54655841bca6e895f75de92bf7",
            "62a7834d6cd94b56aef1a6f9253be91e",
            "a2fa68c7fd4f47d3beb6055ee6c19f6f",
            "b4245003a6054e44b67fec2555bb3964",
            "71c2a3701c0c4270af609c0ad41a84fe",
            "33ed2bc7519a48b58816abbf8e3364fd"
          ]
        },
        "id": "OSPWG2b5DgTf",
        "outputId": "e2b98d50-f78e-4aa9-b7a2-35bebbfbd509"
      },
      "execution_count": null,
      "outputs": [
        {
          "data": {
            "application/vnd.jupyter.widget-view+json": {
              "model_id": "895a96a50be744868b2ff0a5b0053bef",
              "version_major": 2,
              "version_minor": 0
            },
            "text/plain": [
              "  0%|          | 0/8613 [00:00<?, ?it/s]"
            ]
          },
          "metadata": {},
          "output_type": "display_data"
        }
      ]
    },
    {
      "cell_type": "code",
      "execution_count": null,
      "metadata": {
        "colab": {
          "background_save": true
        },
        "id": "By07DMaB4vO2"
      },
      "outputs": [],
      "source": [
        "from glob import glob\n",
        "\n",
        "print(len(list(glob(\"images/**/*.*\", recursive=True))))"
      ]
    },
    {
      "cell_type": "code",
      "execution_count": null,
      "metadata": {
        "colab": {
          "background_save": true
        },
        "id": "DyeZU2ngtJL3"
      },
      "outputs": [],
      "source": [
        "! zip -r -q /content/drive/MyDrive/UNC/NCBG/sept1_classif_training.zip /content/images"
      ]
    },
    {
      "cell_type": "code",
      "execution_count": null,
      "metadata": {
        "id": "A3UxkL6pBDLg"
      },
      "outputs": [],
      "source": []
    }
  ],
  "metadata": {
    "colab": {
      "background_execution": "on",
      "machine_shape": "hm",
      "provenance": [],
      "mount_file_id": "1gescfSlO15_0BEpjVXmiJOKWM8Xhclbl",
      "authorship_tag": "ABX9TyPgUeieEtxOOafwi4VKNjR+",
      "include_colab_link": true
    },
    "gpuClass": "standard",
    "kernelspec": {
      "display_name": "Python 3",
      "name": "python3"
    },
    "language_info": {
      "name": "python"
    },
    "widgets": {
      "application/vnd.jupyter.widget-state+json": {
        "895a96a50be744868b2ff0a5b0053bef": {
          "model_module": "@jupyter-widgets/controls",
          "model_name": "HBoxModel",
          "model_module_version": "1.5.0",
          "state": {
            "_dom_classes": [],
            "_model_module": "@jupyter-widgets/controls",
            "_model_module_version": "1.5.0",
            "_model_name": "HBoxModel",
            "_view_count": null,
            "_view_module": "@jupyter-widgets/controls",
            "_view_module_version": "1.5.0",
            "_view_name": "HBoxView",
            "box_style": "",
            "children": [
              "IPY_MODEL_49a0d7dc248341ef8e54f85ab0fc1c86",
              "IPY_MODEL_f4d1c2c2b08348a08d7d8eaed082ff1f",
              "IPY_MODEL_2e514a098a8745a49fb527d959c058e1"
            ],
            "layout": "IPY_MODEL_30466dd6c2d443af8774d5d99479363c"
          }
        },
        "49a0d7dc248341ef8e54f85ab0fc1c86": {
          "model_module": "@jupyter-widgets/controls",
          "model_name": "HTMLModel",
          "model_module_version": "1.5.0",
          "state": {
            "_dom_classes": [],
            "_model_module": "@jupyter-widgets/controls",
            "_model_module_version": "1.5.0",
            "_model_name": "HTMLModel",
            "_view_count": null,
            "_view_module": "@jupyter-widgets/controls",
            "_view_module_version": "1.5.0",
            "_view_name": "HTMLView",
            "description": "",
            "description_tooltip": null,
            "layout": "IPY_MODEL_10840f54655841bca6e895f75de92bf7",
            "placeholder": "​",
            "style": "IPY_MODEL_62a7834d6cd94b56aef1a6f9253be91e",
            "value": "  0%"
          }
        },
        "f4d1c2c2b08348a08d7d8eaed082ff1f": {
          "model_module": "@jupyter-widgets/controls",
          "model_name": "FloatProgressModel",
          "model_module_version": "1.5.0",
          "state": {
            "_dom_classes": [],
            "_model_module": "@jupyter-widgets/controls",
            "_model_module_version": "1.5.0",
            "_model_name": "FloatProgressModel",
            "_view_count": null,
            "_view_module": "@jupyter-widgets/controls",
            "_view_module_version": "1.5.0",
            "_view_name": "ProgressView",
            "bar_style": "",
            "description": "",
            "description_tooltip": null,
            "layout": "IPY_MODEL_a2fa68c7fd4f47d3beb6055ee6c19f6f",
            "max": 8613,
            "min": 0,
            "orientation": "horizontal",
            "style": "IPY_MODEL_b4245003a6054e44b67fec2555bb3964",
            "value": 96
          }
        },
        "2e514a098a8745a49fb527d959c058e1": {
          "model_module": "@jupyter-widgets/controls",
          "model_name": "HTMLModel",
          "model_module_version": "1.5.0",
          "state": {
            "_dom_classes": [],
            "_model_module": "@jupyter-widgets/controls",
            "_model_module_version": "1.5.0",
            "_model_name": "HTMLModel",
            "_view_count": null,
            "_view_module": "@jupyter-widgets/controls",
            "_view_module_version": "1.5.0",
            "_view_name": "HTMLView",
            "description": "",
            "description_tooltip": null,
            "layout": "IPY_MODEL_71c2a3701c0c4270af609c0ad41a84fe",
            "placeholder": "​",
            "style": "IPY_MODEL_33ed2bc7519a48b58816abbf8e3364fd",
            "value": " 96/8613 [04:12&lt;5:45:44,  2.44s/it]"
          }
        },
        "30466dd6c2d443af8774d5d99479363c": {
          "model_module": "@jupyter-widgets/base",
          "model_name": "LayoutModel",
          "model_module_version": "1.2.0",
          "state": {
            "_model_module": "@jupyter-widgets/base",
            "_model_module_version": "1.2.0",
            "_model_name": "LayoutModel",
            "_view_count": null,
            "_view_module": "@jupyter-widgets/base",
            "_view_module_version": "1.2.0",
            "_view_name": "LayoutView",
            "align_content": null,
            "align_items": null,
            "align_self": null,
            "border": null,
            "bottom": null,
            "display": null,
            "flex": null,
            "flex_flow": null,
            "grid_area": null,
            "grid_auto_columns": null,
            "grid_auto_flow": null,
            "grid_auto_rows": null,
            "grid_column": null,
            "grid_gap": null,
            "grid_row": null,
            "grid_template_areas": null,
            "grid_template_columns": null,
            "grid_template_rows": null,
            "height": null,
            "justify_content": null,
            "justify_items": null,
            "left": null,
            "margin": null,
            "max_height": null,
            "max_width": null,
            "min_height": null,
            "min_width": null,
            "object_fit": null,
            "object_position": null,
            "order": null,
            "overflow": null,
            "overflow_x": null,
            "overflow_y": null,
            "padding": null,
            "right": null,
            "top": null,
            "visibility": null,
            "width": null
          }
        },
        "10840f54655841bca6e895f75de92bf7": {
          "model_module": "@jupyter-widgets/base",
          "model_name": "LayoutModel",
          "model_module_version": "1.2.0",
          "state": {
            "_model_module": "@jupyter-widgets/base",
            "_model_module_version": "1.2.0",
            "_model_name": "LayoutModel",
            "_view_count": null,
            "_view_module": "@jupyter-widgets/base",
            "_view_module_version": "1.2.0",
            "_view_name": "LayoutView",
            "align_content": null,
            "align_items": null,
            "align_self": null,
            "border": null,
            "bottom": null,
            "display": null,
            "flex": null,
            "flex_flow": null,
            "grid_area": null,
            "grid_auto_columns": null,
            "grid_auto_flow": null,
            "grid_auto_rows": null,
            "grid_column": null,
            "grid_gap": null,
            "grid_row": null,
            "grid_template_areas": null,
            "grid_template_columns": null,
            "grid_template_rows": null,
            "height": null,
            "justify_content": null,
            "justify_items": null,
            "left": null,
            "margin": null,
            "max_height": null,
            "max_width": null,
            "min_height": null,
            "min_width": null,
            "object_fit": null,
            "object_position": null,
            "order": null,
            "overflow": null,
            "overflow_x": null,
            "overflow_y": null,
            "padding": null,
            "right": null,
            "top": null,
            "visibility": null,
            "width": null
          }
        },
        "62a7834d6cd94b56aef1a6f9253be91e": {
          "model_module": "@jupyter-widgets/controls",
          "model_name": "DescriptionStyleModel",
          "model_module_version": "1.5.0",
          "state": {
            "_model_module": "@jupyter-widgets/controls",
            "_model_module_version": "1.5.0",
            "_model_name": "DescriptionStyleModel",
            "_view_count": null,
            "_view_module": "@jupyter-widgets/base",
            "_view_module_version": "1.2.0",
            "_view_name": "StyleView",
            "description_width": ""
          }
        },
        "a2fa68c7fd4f47d3beb6055ee6c19f6f": {
          "model_module": "@jupyter-widgets/base",
          "model_name": "LayoutModel",
          "model_module_version": "1.2.0",
          "state": {
            "_model_module": "@jupyter-widgets/base",
            "_model_module_version": "1.2.0",
            "_model_name": "LayoutModel",
            "_view_count": null,
            "_view_module": "@jupyter-widgets/base",
            "_view_module_version": "1.2.0",
            "_view_name": "LayoutView",
            "align_content": null,
            "align_items": null,
            "align_self": null,
            "border": null,
            "bottom": null,
            "display": null,
            "flex": null,
            "flex_flow": null,
            "grid_area": null,
            "grid_auto_columns": null,
            "grid_auto_flow": null,
            "grid_auto_rows": null,
            "grid_column": null,
            "grid_gap": null,
            "grid_row": null,
            "grid_template_areas": null,
            "grid_template_columns": null,
            "grid_template_rows": null,
            "height": null,
            "justify_content": null,
            "justify_items": null,
            "left": null,
            "margin": null,
            "max_height": null,
            "max_width": null,
            "min_height": null,
            "min_width": null,
            "object_fit": null,
            "object_position": null,
            "order": null,
            "overflow": null,
            "overflow_x": null,
            "overflow_y": null,
            "padding": null,
            "right": null,
            "top": null,
            "visibility": null,
            "width": null
          }
        },
        "b4245003a6054e44b67fec2555bb3964": {
          "model_module": "@jupyter-widgets/controls",
          "model_name": "ProgressStyleModel",
          "model_module_version": "1.5.0",
          "state": {
            "_model_module": "@jupyter-widgets/controls",
            "_model_module_version": "1.5.0",
            "_model_name": "ProgressStyleModel",
            "_view_count": null,
            "_view_module": "@jupyter-widgets/base",
            "_view_module_version": "1.2.0",
            "_view_name": "StyleView",
            "bar_color": null,
            "description_width": ""
          }
        },
        "71c2a3701c0c4270af609c0ad41a84fe": {
          "model_module": "@jupyter-widgets/base",
          "model_name": "LayoutModel",
          "model_module_version": "1.2.0",
          "state": {
            "_model_module": "@jupyter-widgets/base",
            "_model_module_version": "1.2.0",
            "_model_name": "LayoutModel",
            "_view_count": null,
            "_view_module": "@jupyter-widgets/base",
            "_view_module_version": "1.2.0",
            "_view_name": "LayoutView",
            "align_content": null,
            "align_items": null,
            "align_self": null,
            "border": null,
            "bottom": null,
            "display": null,
            "flex": null,
            "flex_flow": null,
            "grid_area": null,
            "grid_auto_columns": null,
            "grid_auto_flow": null,
            "grid_auto_rows": null,
            "grid_column": null,
            "grid_gap": null,
            "grid_row": null,
            "grid_template_areas": null,
            "grid_template_columns": null,
            "grid_template_rows": null,
            "height": null,
            "justify_content": null,
            "justify_items": null,
            "left": null,
            "margin": null,
            "max_height": null,
            "max_width": null,
            "min_height": null,
            "min_width": null,
            "object_fit": null,
            "object_position": null,
            "order": null,
            "overflow": null,
            "overflow_x": null,
            "overflow_y": null,
            "padding": null,
            "right": null,
            "top": null,
            "visibility": null,
            "width": null
          }
        },
        "33ed2bc7519a48b58816abbf8e3364fd": {
          "model_module": "@jupyter-widgets/controls",
          "model_name": "DescriptionStyleModel",
          "model_module_version": "1.5.0",
          "state": {
            "_model_module": "@jupyter-widgets/controls",
            "_model_module_version": "1.5.0",
            "_model_name": "DescriptionStyleModel",
            "_view_count": null,
            "_view_module": "@jupyter-widgets/base",
            "_view_module_version": "1.2.0",
            "_view_name": "StyleView",
            "description_width": ""
          }
        }
      }
    }
  },
  "nbformat": 4,
  "nbformat_minor": 0
}