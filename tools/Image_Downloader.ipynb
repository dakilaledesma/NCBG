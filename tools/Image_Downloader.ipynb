{
  "cells": [
    {
      "cell_type": "markdown",
      "metadata": {
        "id": "view-in-github",
        "colab_type": "text"
      },
      "source": [
        "<a href=\"https://colab.research.google.com/github/dakilaledesma/NCBG/blob/main/tools/Image_Downloader.ipynb\" target=\"_parent\"><img src=\"https://colab.research.google.com/assets/colab-badge.svg\" alt=\"Open In Colab\"/></a>"
      ]
    },
    {
      "cell_type": "code",
      "execution_count": 1,
      "metadata": {
        "id": "hvZCKmYWIdcO"
      },
      "outputs": [],
      "source": [
        "! cp /content/drive/MyDrive/UNC/NCBG/qry_fsus_fulllistimg_ai.xlsx /content/qry_fsus_fulllistimg_ai.xlsx"
      ]
    },
    {
      "cell_type": "code",
      "source": [
        "! pip install joblib"
      ],
      "metadata": {
        "colab": {
          "base_uri": "https://localhost:8080/"
        },
        "id": "FzralhdCaN2M",
        "outputId": "f6adde92-6d2e-417e-fdc0-7f28050736ad"
      },
      "execution_count": 1,
      "outputs": [
        {
          "output_type": "stream",
          "name": "stdout",
          "text": [
            "Looking in indexes: https://pypi.org/simple, https://us-python.pkg.dev/colab-wheels/public/simple/\n",
            "Requirement already satisfied: joblib in /usr/local/lib/python3.7/dist-packages (1.1.0)\n"
          ]
        }
      ]
    },
    {
      "cell_type": "code",
      "execution_count": 4,
      "metadata": {
        "id": "bBBwaZTdIz1S"
      },
      "outputs": [],
      "source": [
        "import pandas as pd\n",
        "\n",
        "image_df = pd.read_excel(\"qry_fsus_fulllistimg_ai.xlsx\")"
      ]
    },
    {
      "cell_type": "code",
      "source": [
        "print(image_df.head())"
      ],
      "metadata": {
        "colab": {
          "base_uri": "https://localhost:8080/"
        },
        "id": "8c5NIiMwDk7B",
        "outputId": "4c93e3f5-ba55-4411-bfb9-32ce303befe8"
      },
      "execution_count": 5,
      "outputs": [
        {
          "output_type": "stream",
          "name": "stdout",
          "text": [
            "            filename directoryname priority\n",
            "0  1413831366460.jpg           gmp       no\n",
            "1  1413831418011.jpg           gmp       no\n",
            "2  1413831438890.jpg           gmp       no\n",
            "3  1413833265035.jpg           gmp       no\n",
            "4  1413833627833.jpg           gmp       no\n"
          ]
        }
      ]
    },
    {
      "cell_type": "code",
      "source": [
        "import os\n",
        "from tqdm.notebook import tqdm\n",
        "from urllib import request\n",
        "import time\n",
        "from collections import defaultdict\n",
        "import io\n",
        "from PIL import Image\n",
        "from joblib import Parallel, delayed\n",
        "\n",
        "# for idx, row in tqdm(image_df.iterrows(), total=len(image_df)):\n",
        "def down_ims(idx, row):\n",
        "  im_bn = row[\"filename\"]\n",
        "  directory = row[\"directoryname\"]\n",
        "  im_url = f\"https://fsus.ncbg.unc.edu/img/600/{directory}/{im_bn}\"\n",
        "  path = f\"images/\"\n",
        "\n",
        "  try:\n",
        "    req = request.urlopen(request.Request(im_url)).read()\n",
        "  except:\n",
        "    pass\n",
        "\n",
        "  try:\n",
        "    im = Image.open(io.BytesIO(req))\n",
        "    im.thumbnail([600, 600])\n",
        "    \n",
        "    if not os.path.isdir(path):\n",
        "      os.makedirs(path)\n",
        "\n",
        "    im.save(f\"{path}/{idx}__{im_bn}.jpg\")\n",
        "  except:\n",
        "    pass\n",
        "\n",
        "Parallel(n_jobs=4)(delayed(down_ims)(idx, row) for idx, row in tqdm(image_df.iterrows(), total=len(image_df)))"
      ],
      "metadata": {
        "colab": {
          "base_uri": "https://localhost:8080/",
          "height": 49,
          "referenced_widgets": [
            "598b9518e490458297d65f5cee7eb175",
            "369b6199aac94c81acdb6d9446ff7a99",
            "94b233597446494cbd8728e70de6d324",
            "ef0e649c65a746078b2b83cda4701dc4",
            "39e2fa957fa448a18034562770b4bd38",
            "8443ac0954cf41d0a9462a8df5175386",
            "8e211b59ebf748ce86bfe9423cd92515",
            "5f468be26d4e476cb48c9a9c16ec4da8",
            "562d8819aed1402e88bf9caf0bf3455d",
            "030e8c1b623f488195ee0dd9b46ae742",
            "73a4f1f0afe3408593c16e147bcf763a"
          ]
        },
        "id": "OSPWG2b5DgTf",
        "outputId": "4987954c-7a87-4bfe-e394-d643d50135e8"
      },
      "execution_count": null,
      "outputs": [
        {
          "output_type": "display_data",
          "data": {
            "text/plain": [
              "  0%|          | 0/103333 [00:00<?, ?it/s]"
            ],
            "application/vnd.jupyter.widget-view+json": {
              "version_major": 2,
              "version_minor": 0,
              "model_id": "598b9518e490458297d65f5cee7eb175"
            }
          },
          "metadata": {}
        }
      ]
    },
    {
      "cell_type": "code",
      "execution_count": null,
      "metadata": {
        "id": "By07DMaB4vO2"
      },
      "outputs": [],
      "source": [
        "from glob import glob\n",
        "\n",
        "print(len(list(glob(\"images/**/*.*\", recursive=True))))"
      ]
    },
    {
      "cell_type": "code",
      "execution_count": null,
      "metadata": {
        "id": "DyeZU2ngtJL3"
      },
      "outputs": [],
      "source": [
        "! zip -r -q /content/drive/MyDrive/UNC/NCBG/sept12_full_images.zip /content/images"
      ]
    },
    {
      "cell_type": "code",
      "execution_count": null,
      "metadata": {
        "id": "A3UxkL6pBDLg"
      },
      "outputs": [],
      "source": []
    }
  ],
  "metadata": {
    "colab": {
      "background_execution": "on",
      "machine_shape": "hm",
      "provenance": [],
      "mount_file_id": "1gescfSlO15_0BEpjVXmiJOKWM8Xhclbl",
      "authorship_tag": "ABX9TyND7Wk76Zbvy4NTdRhai4VZ",
      "include_colab_link": true
    },
    "gpuClass": "standard",
    "kernelspec": {
      "display_name": "Python 3",
      "name": "python3"
    },
    "language_info": {
      "name": "python"
    },
    "widgets": {
      "application/vnd.jupyter.widget-state+json": {
        "598b9518e490458297d65f5cee7eb175": {
          "model_module": "@jupyter-widgets/controls",
          "model_name": "HBoxModel",
          "model_module_version": "1.5.0",
          "state": {
            "_dom_classes": [],
            "_model_module": "@jupyter-widgets/controls",
            "_model_module_version": "1.5.0",
            "_model_name": "HBoxModel",
            "_view_count": null,
            "_view_module": "@jupyter-widgets/controls",
            "_view_module_version": "1.5.0",
            "_view_name": "HBoxView",
            "box_style": "",
            "children": [
              "IPY_MODEL_369b6199aac94c81acdb6d9446ff7a99",
              "IPY_MODEL_94b233597446494cbd8728e70de6d324",
              "IPY_MODEL_ef0e649c65a746078b2b83cda4701dc4"
            ],
            "layout": "IPY_MODEL_39e2fa957fa448a18034562770b4bd38"
          }
        },
        "369b6199aac94c81acdb6d9446ff7a99": {
          "model_module": "@jupyter-widgets/controls",
          "model_name": "HTMLModel",
          "model_module_version": "1.5.0",
          "state": {
            "_dom_classes": [],
            "_model_module": "@jupyter-widgets/controls",
            "_model_module_version": "1.5.0",
            "_model_name": "HTMLModel",
            "_view_count": null,
            "_view_module": "@jupyter-widgets/controls",
            "_view_module_version": "1.5.0",
            "_view_name": "HTMLView",
            "description": "",
            "description_tooltip": null,
            "layout": "IPY_MODEL_8443ac0954cf41d0a9462a8df5175386",
            "placeholder": "​",
            "style": "IPY_MODEL_8e211b59ebf748ce86bfe9423cd92515",
            "value": "  0%"
          }
        },
        "94b233597446494cbd8728e70de6d324": {
          "model_module": "@jupyter-widgets/controls",
          "model_name": "FloatProgressModel",
          "model_module_version": "1.5.0",
          "state": {
            "_dom_classes": [],
            "_model_module": "@jupyter-widgets/controls",
            "_model_module_version": "1.5.0",
            "_model_name": "FloatProgressModel",
            "_view_count": null,
            "_view_module": "@jupyter-widgets/controls",
            "_view_module_version": "1.5.0",
            "_view_name": "ProgressView",
            "bar_style": "",
            "description": "",
            "description_tooltip": null,
            "layout": "IPY_MODEL_5f468be26d4e476cb48c9a9c16ec4da8",
            "max": 103333,
            "min": 0,
            "orientation": "horizontal",
            "style": "IPY_MODEL_562d8819aed1402e88bf9caf0bf3455d",
            "value": 208
          }
        },
        "ef0e649c65a746078b2b83cda4701dc4": {
          "model_module": "@jupyter-widgets/controls",
          "model_name": "HTMLModel",
          "model_module_version": "1.5.0",
          "state": {
            "_dom_classes": [],
            "_model_module": "@jupyter-widgets/controls",
            "_model_module_version": "1.5.0",
            "_model_name": "HTMLModel",
            "_view_count": null,
            "_view_module": "@jupyter-widgets/controls",
            "_view_module_version": "1.5.0",
            "_view_name": "HTMLView",
            "description": "",
            "description_tooltip": null,
            "layout": "IPY_MODEL_030e8c1b623f488195ee0dd9b46ae742",
            "placeholder": "​",
            "style": "IPY_MODEL_73a4f1f0afe3408593c16e147bcf763a",
            "value": " 208/103333 [01:48&lt;13:58:31,  2.05it/s]"
          }
        },
        "39e2fa957fa448a18034562770b4bd38": {
          "model_module": "@jupyter-widgets/base",
          "model_name": "LayoutModel",
          "model_module_version": "1.2.0",
          "state": {
            "_model_module": "@jupyter-widgets/base",
            "_model_module_version": "1.2.0",
            "_model_name": "LayoutModel",
            "_view_count": null,
            "_view_module": "@jupyter-widgets/base",
            "_view_module_version": "1.2.0",
            "_view_name": "LayoutView",
            "align_content": null,
            "align_items": null,
            "align_self": null,
            "border": null,
            "bottom": null,
            "display": null,
            "flex": null,
            "flex_flow": null,
            "grid_area": null,
            "grid_auto_columns": null,
            "grid_auto_flow": null,
            "grid_auto_rows": null,
            "grid_column": null,
            "grid_gap": null,
            "grid_row": null,
            "grid_template_areas": null,
            "grid_template_columns": null,
            "grid_template_rows": null,
            "height": null,
            "justify_content": null,
            "justify_items": null,
            "left": null,
            "margin": null,
            "max_height": null,
            "max_width": null,
            "min_height": null,
            "min_width": null,
            "object_fit": null,
            "object_position": null,
            "order": null,
            "overflow": null,
            "overflow_x": null,
            "overflow_y": null,
            "padding": null,
            "right": null,
            "top": null,
            "visibility": null,
            "width": null
          }
        },
        "8443ac0954cf41d0a9462a8df5175386": {
          "model_module": "@jupyter-widgets/base",
          "model_name": "LayoutModel",
          "model_module_version": "1.2.0",
          "state": {
            "_model_module": "@jupyter-widgets/base",
            "_model_module_version": "1.2.0",
            "_model_name": "LayoutModel",
            "_view_count": null,
            "_view_module": "@jupyter-widgets/base",
            "_view_module_version": "1.2.0",
            "_view_name": "LayoutView",
            "align_content": null,
            "align_items": null,
            "align_self": null,
            "border": null,
            "bottom": null,
            "display": null,
            "flex": null,
            "flex_flow": null,
            "grid_area": null,
            "grid_auto_columns": null,
            "grid_auto_flow": null,
            "grid_auto_rows": null,
            "grid_column": null,
            "grid_gap": null,
            "grid_row": null,
            "grid_template_areas": null,
            "grid_template_columns": null,
            "grid_template_rows": null,
            "height": null,
            "justify_content": null,
            "justify_items": null,
            "left": null,
            "margin": null,
            "max_height": null,
            "max_width": null,
            "min_height": null,
            "min_width": null,
            "object_fit": null,
            "object_position": null,
            "order": null,
            "overflow": null,
            "overflow_x": null,
            "overflow_y": null,
            "padding": null,
            "right": null,
            "top": null,
            "visibility": null,
            "width": null
          }
        },
        "8e211b59ebf748ce86bfe9423cd92515": {
          "model_module": "@jupyter-widgets/controls",
          "model_name": "DescriptionStyleModel",
          "model_module_version": "1.5.0",
          "state": {
            "_model_module": "@jupyter-widgets/controls",
            "_model_module_version": "1.5.0",
            "_model_name": "DescriptionStyleModel",
            "_view_count": null,
            "_view_module": "@jupyter-widgets/base",
            "_view_module_version": "1.2.0",
            "_view_name": "StyleView",
            "description_width": ""
          }
        },
        "5f468be26d4e476cb48c9a9c16ec4da8": {
          "model_module": "@jupyter-widgets/base",
          "model_name": "LayoutModel",
          "model_module_version": "1.2.0",
          "state": {
            "_model_module": "@jupyter-widgets/base",
            "_model_module_version": "1.2.0",
            "_model_name": "LayoutModel",
            "_view_count": null,
            "_view_module": "@jupyter-widgets/base",
            "_view_module_version": "1.2.0",
            "_view_name": "LayoutView",
            "align_content": null,
            "align_items": null,
            "align_self": null,
            "border": null,
            "bottom": null,
            "display": null,
            "flex": null,
            "flex_flow": null,
            "grid_area": null,
            "grid_auto_columns": null,
            "grid_auto_flow": null,
            "grid_auto_rows": null,
            "grid_column": null,
            "grid_gap": null,
            "grid_row": null,
            "grid_template_areas": null,
            "grid_template_columns": null,
            "grid_template_rows": null,
            "height": null,
            "justify_content": null,
            "justify_items": null,
            "left": null,
            "margin": null,
            "max_height": null,
            "max_width": null,
            "min_height": null,
            "min_width": null,
            "object_fit": null,
            "object_position": null,
            "order": null,
            "overflow": null,
            "overflow_x": null,
            "overflow_y": null,
            "padding": null,
            "right": null,
            "top": null,
            "visibility": null,
            "width": null
          }
        },
        "562d8819aed1402e88bf9caf0bf3455d": {
          "model_module": "@jupyter-widgets/controls",
          "model_name": "ProgressStyleModel",
          "model_module_version": "1.5.0",
          "state": {
            "_model_module": "@jupyter-widgets/controls",
            "_model_module_version": "1.5.0",
            "_model_name": "ProgressStyleModel",
            "_view_count": null,
            "_view_module": "@jupyter-widgets/base",
            "_view_module_version": "1.2.0",
            "_view_name": "StyleView",
            "bar_color": null,
            "description_width": ""
          }
        },
        "030e8c1b623f488195ee0dd9b46ae742": {
          "model_module": "@jupyter-widgets/base",
          "model_name": "LayoutModel",
          "model_module_version": "1.2.0",
          "state": {
            "_model_module": "@jupyter-widgets/base",
            "_model_module_version": "1.2.0",
            "_model_name": "LayoutModel",
            "_view_count": null,
            "_view_module": "@jupyter-widgets/base",
            "_view_module_version": "1.2.0",
            "_view_name": "LayoutView",
            "align_content": null,
            "align_items": null,
            "align_self": null,
            "border": null,
            "bottom": null,
            "display": null,
            "flex": null,
            "flex_flow": null,
            "grid_area": null,
            "grid_auto_columns": null,
            "grid_auto_flow": null,
            "grid_auto_rows": null,
            "grid_column": null,
            "grid_gap": null,
            "grid_row": null,
            "grid_template_areas": null,
            "grid_template_columns": null,
            "grid_template_rows": null,
            "height": null,
            "justify_content": null,
            "justify_items": null,
            "left": null,
            "margin": null,
            "max_height": null,
            "max_width": null,
            "min_height": null,
            "min_width": null,
            "object_fit": null,
            "object_position": null,
            "order": null,
            "overflow": null,
            "overflow_x": null,
            "overflow_y": null,
            "padding": null,
            "right": null,
            "top": null,
            "visibility": null,
            "width": null
          }
        },
        "73a4f1f0afe3408593c16e147bcf763a": {
          "model_module": "@jupyter-widgets/controls",
          "model_name": "DescriptionStyleModel",
          "model_module_version": "1.5.0",
          "state": {
            "_model_module": "@jupyter-widgets/controls",
            "_model_module_version": "1.5.0",
            "_model_name": "DescriptionStyleModel",
            "_view_count": null,
            "_view_module": "@jupyter-widgets/base",
            "_view_module_version": "1.2.0",
            "_view_name": "StyleView",
            "description_width": ""
          }
        }
      }
    }
  },
  "nbformat": 4,
  "nbformat_minor": 0
}