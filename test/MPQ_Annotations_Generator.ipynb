{
  "cells": [
    {
      "cell_type": "markdown",
      "metadata": {
        "id": "view-in-github",
        "colab_type": "text"
      },
      "source": [
        "<a href=\"https://colab.research.google.com/github/dakilaledesma/NCBG/blob/main/test/MPQ_Annotations_Generator.ipynb\" target=\"_parent\"><img src=\"https://colab.research.google.com/assets/colab-badge.svg\" alt=\"Open In Colab\"/></a>"
      ]
    },
    {
      "cell_type": "markdown",
      "source": [
        "# Downloading of datasets and prereqs"
      ],
      "metadata": {
        "id": "8TbcmJKr7Vpt"
      }
    },
    {
      "cell_type": "code",
      "source": [
        "%%bash\n",
        "# Test subset of full dataset\n",
        "curl -o sept13_testset.zip https://herbarium.ucht.cloud/s/dityq9AyGJNXY4T/download\n",
        "unzip -q sept13_testset\n",
        "mv /content/content/images /content/images\n",
        "rm -rf /content/content"
      ],
      "metadata": {
        "colab": {
          "base_uri": "https://localhost:8080/"
        },
        "id": "NP4OqExvDF82",
        "outputId": "a269af5a-0822-4248-e899-c8804f31a338"
      },
      "execution_count": null,
      "outputs": [
        {
          "output_type": "stream",
          "name": "stderr",
          "text": [
            "  % Total    % Received % Xferd  Average Speed   Time    Time     Time  Current\n",
            "                                 Dload  Upload   Total   Spent    Left  Speed\n",
            "\r  0     0    0     0    0     0      0      0 --:--:-- --:--:-- --:--:--     0\r  0     0    0     0    0     0      0      0 --:--:--  0:00:01 --:--:--     0\r  0     0    0     0    0     0      0      0 --:--:--  0:00:01 --:--:--     0\r  0 4091M    0  446k    0     0   175k      0  6:38:23  0:00:02  6:38:21  175k\r  0 4091M    0 1550k    0     0   437k      0  2:39:44  0:00:03  2:39:41  436k\r  0 4091M    0 5742k    0     0  1262k      0  0:55:17  0:00:04  0:55:13 1262k\r  0 4091M    0 18.0M    0     0  3322k      0  0:21:00  0:00:05  0:20:55 4268k\r  1 4091M    1 55.0M    0     0  8605k      0  0:08:06  0:00:06  0:08:00 11.5M\r  3 4091M    3  138M    0     0  18.3M      0  0:03:43  0:00:07  0:03:36 27.5M\r  5 4091M    5  228M    0     0  26.6M      0  0:02:33  0:00:08  0:02:25 45.3M\r  7 4091M    7  311M    0     0  32.6M      0  0:02:05  0:00:09  0:01:56 61.2M\r 10 4091M   10  413M    0     0  39.2M      0  0:01:44  0:00:10  0:01:34 79.2M\r 12 4091M   12  498M    0     0  43.1M      0  0:01:34  0:00:11  0:01:23 88.6M\r 14 4091M   14  584M    0     0  46.5M      0  0:01:27  0:00:12  0:01:15 89.1M\r 16 4091M   16  670M    0     0  49.5M      0  0:01:22  0:00:13  0:01:09 88.5M\r 18 4091M   18  746M    0     0  51.3M      0  0:01:19  0:00:14  0:01:05 86.9M\r 20 4091M   20  827M    0     0  53.2M      0  0:01:16  0:00:15  0:01:01 82.6M\r 22 4091M   22  906M    0     0  54.8M      0  0:01:14  0:00:16  0:00:58 81.7M\r 24 4091M   24  987M    0     0  56.3M      0  0:01:12  0:00:17  0:00:55 80.7M\r 25 4091M   25 1059M    0     0  57.1M      0  0:01:11  0:00:18  0:00:53 77.8M\r 28 4091M   28 1148M    0     0  58.7M      0  0:01:09  0:00:19  0:00:50 80.3M\r 30 4091M   30 1237M    0     0  60.2M      0  0:01:07  0:00:20  0:00:47 82.1M\r 31 4091M   31 1286M    0     0  59.7M      0  0:01:08  0:00:21  0:00:47 75.9M\r 33 4091M   33 1372M    0     0  60.8M      0  0:01:07  0:00:22  0:00:45 76.8M\r 35 4091M   35 1460M    0     0  62.0M      0  0:01:05  0:00:23  0:00:42 80.0M\r 37 4091M   37 1544M    0     0  62.9M      0  0:01:05  0:00:24  0:00:41 79.1M\r 39 4091M   39 1635M    0     0  64.0M      0  0:01:03  0:00:25  0:00:38 79.5M\r 42 4091M   42 1736M    0     0  65.4M      0  0:01:02  0:00:26  0:00:36 90.0M\r 44 4091M   44 1823M    0     0  66.2M      0  0:01:01  0:00:27  0:00:34 90.3M\r 46 4091M   46 1909M    0     0  66.8M      0  0:01:01  0:00:28  0:00:33 89.8M\r 48 4091M   48 1998M    0     0  67.6M      0  0:01:00  0:00:29  0:00:31 90.8M\r 50 4091M   50 2081M    0     0  68.1M      0  0:01:00  0:00:30  0:00:30 89.0M\r 53 4091M   53 2175M    0     0  68.9M      0  0:00:59  0:00:31  0:00:28 87.7M\r 54 4091M   54 2241M    0     0  68.8M      0  0:00:59  0:00:32  0:00:27 83.6M\r 56 4091M   56 2325M    0     0  69.3M      0  0:00:59  0:00:33  0:00:26 83.2M\r 58 4091M   58 2402M    0     0  69.5M      0  0:00:58  0:00:34  0:00:24 80.7M\r 60 4091M   60 2465M    0     0  69.3M      0  0:00:58  0:00:35  0:00:23 76.9M\r 62 4091M   62 2546M    0     0  69.6M      0  0:00:58  0:00:36  0:00:22 74.1M\r 64 4091M   64 2628M    0     0  70.0M      0  0:00:58  0:00:37  0:00:21 77.2M\r 66 4091M   66 2712M    0     0  70.3M      0  0:00:58  0:00:38  0:00:20 77.4M\r 68 4091M   68 2794M    0     0  70.6M      0  0:00:57  0:00:39  0:00:18 78.3M\r 70 4091M   70 2865M    0     0  70.6M      0  0:00:57  0:00:40  0:00:17 79.9M\r 71 4091M   71 2932M    0     0  70.5M      0  0:00:57  0:00:41  0:00:16 77.3M\r 73 4091M   73 3004M    0     0  70.6M      0  0:00:57  0:00:42  0:00:15 75.2M\r 75 4091M   75 3074M    0     0  70.5M      0  0:00:57  0:00:43  0:00:14 72.2M\r 76 4091M   76 3149M    0     0  70.6M      0  0:00:57  0:00:44  0:00:13 71.0M\r 78 4091M   78 3219M    0     0  70.2M      0  0:00:58  0:00:45  0:00:13 67.4M\r 79 4091M   79 3268M    0     0  70.2M      0  0:00:58  0:00:46  0:00:12 67.2M\r 81 4091M   81 3334M    0     0  70.1M      0  0:00:58  0:00:47  0:00:11 65.8M\r 83 4091M   83 3406M    0     0  70.1M      0  0:00:58  0:00:48  0:00:10 66.3M\r 85 4091M   85 3481M    0     0  70.2M      0  0:00:58  0:00:49  0:00:09 66.4M\r 86 4091M   86 3559M    0     0  70.4M      0  0:00:58  0:00:50  0:00:08 71.5M\r 88 4091M   88 3621M    0     0  70.2M      0  0:00:58  0:00:51  0:00:07 70.5M\r 90 4091M   90 3711M    0     0  70.6M      0  0:00:57  0:00:52  0:00:05 75.6M\r 92 4091M   92 3783M    0     0  70.6M      0  0:00:57  0:00:53  0:00:04 75.4M\r 94 4091M   94 3862M    0     0  70.8M      0  0:00:57  0:00:54  0:00:03 76.2M\r 96 4091M   96 3941M    0     0  70.9M      0  0:00:57  0:00:55  0:00:02 76.3M\r 98 4091M   98 4019M    0     0  71.0M      0  0:00:57  0:00:56  0:00:01 79.5M\r 99 4091M   99 4081M    0     0  70.9M      0  0:00:57  0:00:57 --:--:-- 73.9M\r100 4091M  100 4091M    0     0  70.8M      0  0:00:57  0:00:57 --:--:-- 73.3M\n"
          ]
        }
      ]
    },
    {
      "cell_type": "code",
      "source": [
        "%%bash\n",
        "# Multilabel parts model ver 2b\n",
        "curl -o mp_2b.zip https://herbarium.ucht.cloud/s/w88BAyFkjxkyFDd/download\n",
        "unzip -q mp_2b.zip\n",
        "mv /content/content/drive/MyDrive/UNC/NCBG/mp_2b /content/mp_2b\n",
        "rm -rf /content/content"
      ],
      "metadata": {
        "colab": {
          "base_uri": "https://localhost:8080/"
        },
        "id": "zm0NCC1_ESUi",
        "outputId": "f40758d5-f781-4590-cae5-2e295b21040b"
      },
      "execution_count": null,
      "outputs": [
        {
          "output_type": "stream",
          "name": "stderr",
          "text": [
            "  % Total    % Received % Xferd  Average Speed   Time    Time     Time  Current\n",
            "                                 Dload  Upload   Total   Spent    Left  Speed\n",
            "\r  0     0    0     0    0     0      0      0 --:--:-- --:--:-- --:--:--     0\r  0     0    0     0    0     0      0      0 --:--:--  0:00:01 --:--:--     0\r  0     0    0     0    0     0      0      0 --:--:--  0:00:01 --:--:--     0\r  0 2265M    0 1646k    0     0   735k      0  0:52:36  0:00:02  0:52:34  734k\r  2 2265M    2 64.0M    0     0  19.7M      0  0:01:54  0:00:03  0:01:51 19.7M\r  6 2265M    6  151M    0     0  35.4M      0  0:01:03  0:00:04  0:00:59 35.4M\r 11 2265M   11  249M    0     0  47.5M      0  0:00:47  0:00:05  0:00:42 62.1M\r 14 2265M   14  332M    0     0  53.2M      0  0:00:42  0:00:06  0:00:36 72.4M\r 18 2265M   18  415M    0     0  57.3M      0  0:00:39  0:00:07  0:00:32 82.6M\r 21 2265M   21  494M    0     0  60.0M      0  0:00:37  0:00:08  0:00:29 86.1M\r 25 2265M   25  575M    0     0  62.1M      0  0:00:36  0:00:09  0:00:27 85.2M\r 28 2265M   28  656M    0     0  64.0M      0  0:00:35  0:00:10  0:00:25 81.4M\r 32 2265M   32  737M    0     0  65.6M      0  0:00:34  0:00:11  0:00:23 81.0M\r 35 2265M   35  813M    0     0  66.4M      0  0:00:34  0:00:12  0:00:22 79.7M\r 39 2265M   39  892M    0     0  67.3M      0  0:00:33  0:00:13  0:00:20 79.5M\r 42 2265M   42  971M    0     0  68.2M      0  0:00:33  0:00:14  0:00:19 79.4M\r 46 2265M   46 1048M    0     0  68.7M      0  0:00:32  0:00:15  0:00:17 78.3M\r 48 2265M   48 1095M    0     0  67.4M      0  0:00:33  0:00:16  0:00:17 71.5M\r 52 2265M   52 1181M    0     0  68.5M      0  0:00:33  0:00:17  0:00:16 73.4M\r 55 2265M   55 1267M    0     0  69.4M      0  0:00:32  0:00:18  0:00:14 74.9M\r 59 2265M   59 1353M    0     0  70.3M      0  0:00:32  0:00:19  0:00:13 76.4M\r 63 2265M   63 1442M    0     0  71.2M      0  0:00:31  0:00:20  0:00:11 78.8M\r 67 2265M   67 1526M    0     0  71.8M      0  0:00:31  0:00:21  0:00:10 86.3M\r 68 2265M   68 1553M    0     0  69.8M      0  0:00:32  0:00:22  0:00:10 74.3M\r 69 2265M   69 1569M    0     0  67.5M      0  0:00:33  0:00:23  0:00:10 60.5M\r 74 2265M   74 1678M    0     0  69.2M      0  0:00:32  0:00:24  0:00:08 64.9M\r 78 2265M   78 1779M    0     0  70.5M      0  0:00:32  0:00:25  0:00:07 67.4M\r 82 2265M   82 1864M    0     0  71.0M      0  0:00:31  0:00:26  0:00:05 67.5M\r 85 2265M   85 1944M    0     0  71.3M      0  0:00:31  0:00:27  0:00:04 78.2M\r 90 2265M   90 2046M    0     0  72.4M      0  0:00:31  0:00:28  0:00:03 95.1M\r 94 2265M   94 2135M    0     0  73.0M      0  0:00:31  0:00:29  0:00:02 91.4M\r 98 2265M   98 2220M    0     0  73.4M      0  0:00:30  0:00:30 --:--:-- 88.2M\r100 2265M  100 2265M    0     0  73.3M      0  0:00:30  0:00:30 --:--:-- 86.2M\n"
          ]
        }
      ]
    },
    {
      "cell_type": "code",
      "source": [
        "%%bash\n",
        "# Quality model\n",
        "curl -o quality_model.zip https://herbarium.ucht.cloud/s/X25JoqKjP9Hxaxw/download\n",
        "unzip -q quality_model.zip\n",
        "mv /content/content/drive/MyDrive/UNC/NCBG/output/20220904-184244-convnext_large_384_in22ft1k-600 /content/quality_model\n",
        "rm -rf /content/content"
      ],
      "metadata": {
        "colab": {
          "base_uri": "https://localhost:8080/"
        },
        "id": "1Pwh9xfb5uLk",
        "outputId": "91004aed-c2c3-45d2-d547-8aea2b059252"
      },
      "execution_count": null,
      "outputs": [
        {
          "output_type": "stream",
          "name": "stderr",
          "text": [
            "  % Total    % Received % Xferd  Average Speed   Time    Time     Time  Current\n",
            "                                 Dload  Upload   Total   Spent    Left  Speed\n",
            "\r  0     0    0     0    0     0      0      0 --:--:-- --:--:-- --:--:--     0\r  0     0    0     0    0     0      0      0 --:--:--  0:00:01 --:--:--     0\r  0     0    0     0    0     0      0      0 --:--:--  0:00:01 --:--:--     0\r  0 2246M    0 1902k    0     0   749k      0  0:51:09  0:00:02  0:51:07  748k\r  0 2246M    0 14.3M    0     0  4163k      0  0:09:12  0:00:03  0:09:09 4162k\r  2 2246M    2 50.0M    0     0  11.0M      0  0:03:23  0:00:04  0:03:19 11.0M\r  6 2246M    6  138M    0     0  24.9M      0  0:01:30  0:00:05  0:01:25 32.0M\r  9 2246M    9  220M    0     0  33.6M      0  0:01:06  0:00:06  0:01:00 44.6M\r 13 2246M   13  311M    0     0  41.3M      0  0:00:54  0:00:07  0:00:47 62.0M\r 17 2246M   17  402M    0     0  47.1M      0  0:00:47  0:00:08  0:00:39 77.7M\r 21 2246M   21  491M    0     0  51.5M      0  0:00:43  0:00:09  0:00:34 88.3M\r 25 2246M   25  580M    0     0  55.0M      0  0:00:40  0:00:10  0:00:30 88.3M\r 29 2246M   29  673M    0     0  58.3M      0  0:00:38  0:00:11  0:00:27 90.6M\r 34 2246M   34  764M    0     0  60.9M      0  0:00:36  0:00:12  0:00:24 90.4M\r 38 2246M   38  855M    0     0  63.1M      0  0:00:35  0:00:13  0:00:22 90.4M\r 41 2246M   41  924M    0     0  63.6M      0  0:00:35  0:00:14  0:00:21 86.5M\r 45 2246M   45 1011M    0     0  65.0M      0  0:00:34  0:00:15  0:00:19 86.3M\r 48 2246M   48 1087M    0     0  65.7M      0  0:00:34  0:00:16  0:00:18 82.9M\r 48 2246M   48 1093M    0     0  62.0M      0  0:00:36  0:00:17  0:00:19 64.9M\r 48 2246M   48 1093M    0     0  58.7M      0  0:00:38  0:00:18  0:00:20 46.9M\r 48 2246M   48 1093M    0     0  55.7M      0  0:00:40  0:00:19  0:00:21 33.2M\r 48 2246M   48 1093M    0     0  53.0M      0  0:00:42  0:00:20  0:00:22 16.1M\r 48 2246M   48 1093M    0     0  50.5M      0  0:00:44  0:00:21  0:00:23 1075k\r 48 2246M   48 1093M    0     0  48.3M      0  0:00:46  0:00:22  0:00:24     0\r 52 2246M   52 1170M    0     0  49.7M      0  0:00:45  0:00:23  0:00:22 15.6M\r 56 2246M   56 1259M    0     0  51.3M      0  0:00:43  0:00:24  0:00:19 33.7M\r 58 2246M   58 1320M    0     0  51.6M      0  0:00:43  0:00:25  0:00:18 46.0M\r 62 2246M   62 1410M    0     0  53.1M      0  0:00:42  0:00:26  0:00:16 64.3M\r 66 2246M   66 1490M    0     0  54.1M      0  0:00:41  0:00:27  0:00:14 80.6M\r 69 2246M   69 1562M    0     0  54.7M      0  0:00:41  0:00:28  0:00:13 78.2M\r 71 2246M   71 1615M    0     0  54.6M      0  0:00:41  0:00:29  0:00:12 71.1M\r 74 2246M   74 1681M    0     0  55.0M      0  0:00:40  0:00:30  0:00:10 72.3M\r 78 2246M   78 1770M    0     0  56.1M      0  0:00:40  0:00:31  0:00:09 71.8M\r 82 2246M   82 1860M    0     0  57.1M      0  0:00:39  0:00:32  0:00:07 74.0M\r 86 2246M   86 1948M    0     0  58.0M      0  0:00:38  0:00:33  0:00:05 77.2M\r 90 2246M   90 2043M    0     0  59.1M      0  0:00:37  0:00:34  0:00:03 85.5M\r 93 2246M   93 2091M    0     0  58.8M      0  0:00:38  0:00:35  0:00:03 81.9M\r 97 2246M   97 2180M    0     0  59.6M      0  0:00:37  0:00:36  0:00:01 82.1M\r100 2246M  100 2246M    0     0  60.2M      0  0:00:37  0:00:37 --:--:-- 81.1M\n"
          ]
        }
      ]
    },
    {
      "cell_type": "code",
      "source": [
        "%%bash\n",
        "# Prerequisites\n",
        "pip install -U tensorflow-gpu\n",
        "apt install --allow-change-held-packages libcudnn8=8.1.0.77-1+cuda11.2\n",
        "pip install tensorflow-addons"
      ],
      "metadata": {
        "id": "TXF8NawzEFJx",
        "colab": {
          "base_uri": "https://localhost:8080/"
        },
        "outputId": "ab00ba46-2ef5-4803-f9f6-c395b218c8f8"
      },
      "execution_count": null,
      "outputs": [
        {
          "output_type": "stream",
          "name": "stdout",
          "text": [
            "Looking in indexes: https://pypi.org/simple, https://us-python.pkg.dev/colab-wheels/public/simple/\n",
            "Collecting tensorflow-gpu\n",
            "  Downloading tensorflow_gpu-2.10.0-cp37-cp37m-manylinux_2_17_x86_64.manylinux2014_x86_64.whl (578.0 MB)\n",
            "Requirement already satisfied: packaging in /usr/local/lib/python3.7/dist-packages (from tensorflow-gpu) (21.3)\n",
            "Collecting gast<=0.4.0,>=0.2.1\n",
            "  Downloading gast-0.4.0-py3-none-any.whl (9.8 kB)\n",
            "Requirement already satisfied: absl-py>=1.0.0 in /usr/local/lib/python3.7/dist-packages (from tensorflow-gpu) (1.2.0)\n",
            "Requirement already satisfied: grpcio<2.0,>=1.24.3 in /usr/local/lib/python3.7/dist-packages (from tensorflow-gpu) (1.48.1)\n",
            "Requirement already satisfied: libclang>=13.0.0 in /usr/local/lib/python3.7/dist-packages (from tensorflow-gpu) (14.0.6)\n",
            "Requirement already satisfied: six>=1.12.0 in /usr/local/lib/python3.7/dist-packages (from tensorflow-gpu) (1.15.0)\n",
            "Requirement already satisfied: tensorflow-io-gcs-filesystem>=0.23.1 in /usr/local/lib/python3.7/dist-packages (from tensorflow-gpu) (0.26.0)\n",
            "Requirement already satisfied: astunparse>=1.6.0 in /usr/local/lib/python3.7/dist-packages (from tensorflow-gpu) (1.6.3)\n",
            "Requirement already satisfied: google-pasta>=0.1.1 in /usr/local/lib/python3.7/dist-packages (from tensorflow-gpu) (0.2.0)\n",
            "Requirement already satisfied: termcolor>=1.1.0 in /usr/local/lib/python3.7/dist-packages (from tensorflow-gpu) (1.1.0)\n",
            "Requirement already satisfied: typing-extensions>=3.6.6 in /usr/local/lib/python3.7/dist-packages (from tensorflow-gpu) (4.1.1)\n",
            "Requirement already satisfied: keras-preprocessing>=1.1.1 in /usr/local/lib/python3.7/dist-packages (from tensorflow-gpu) (1.1.2)\n",
            "Collecting keras<2.11,>=2.10.0\n",
            "  Downloading keras-2.10.0-py2.py3-none-any.whl (1.7 MB)\n",
            "Requirement already satisfied: h5py>=2.9.0 in /usr/local/lib/python3.7/dist-packages (from tensorflow-gpu) (3.1.0)\n",
            "Requirement already satisfied: opt-einsum>=2.3.2 in /usr/local/lib/python3.7/dist-packages (from tensorflow-gpu) (3.3.0)\n",
            "Collecting tensorboard<2.11,>=2.10\n",
            "  Downloading tensorboard-2.10.0-py3-none-any.whl (5.9 MB)\n",
            "Collecting tensorflow-estimator<2.11,>=2.10.0\n",
            "  Downloading tensorflow_estimator-2.10.0-py2.py3-none-any.whl (438 kB)\n",
            "Requirement already satisfied: numpy>=1.20 in /usr/local/lib/python3.7/dist-packages (from tensorflow-gpu) (1.21.6)\n",
            "Requirement already satisfied: wrapt>=1.11.0 in /usr/local/lib/python3.7/dist-packages (from tensorflow-gpu) (1.14.1)\n",
            "Requirement already satisfied: protobuf<3.20,>=3.9.2 in /usr/local/lib/python3.7/dist-packages (from tensorflow-gpu) (3.17.3)\n",
            "Requirement already satisfied: setuptools in /usr/local/lib/python3.7/dist-packages (from tensorflow-gpu) (57.4.0)\n",
            "Requirement already satisfied: flatbuffers>=2.0 in /usr/local/lib/python3.7/dist-packages (from tensorflow-gpu) (2.0.7)\n",
            "Requirement already satisfied: wheel<1.0,>=0.23.0 in /usr/local/lib/python3.7/dist-packages (from astunparse>=1.6.0->tensorflow-gpu) (0.37.1)\n",
            "Requirement already satisfied: cached-property in /usr/local/lib/python3.7/dist-packages (from h5py>=2.9.0->tensorflow-gpu) (1.5.2)\n",
            "Requirement already satisfied: tensorboard-plugin-wit>=1.6.0 in /usr/local/lib/python3.7/dist-packages (from tensorboard<2.11,>=2.10->tensorflow-gpu) (1.8.1)\n",
            "Requirement already satisfied: google-auth<3,>=1.6.3 in /usr/local/lib/python3.7/dist-packages (from tensorboard<2.11,>=2.10->tensorflow-gpu) (1.35.0)\n",
            "Requirement already satisfied: google-auth-oauthlib<0.5,>=0.4.1 in /usr/local/lib/python3.7/dist-packages (from tensorboard<2.11,>=2.10->tensorflow-gpu) (0.4.6)\n",
            "Requirement already satisfied: werkzeug>=1.0.1 in /usr/local/lib/python3.7/dist-packages (from tensorboard<2.11,>=2.10->tensorflow-gpu) (1.0.1)\n",
            "Requirement already satisfied: markdown>=2.6.8 in /usr/local/lib/python3.7/dist-packages (from tensorboard<2.11,>=2.10->tensorflow-gpu) (3.4.1)\n",
            "Requirement already satisfied: tensorboard-data-server<0.7.0,>=0.6.0 in /usr/local/lib/python3.7/dist-packages (from tensorboard<2.11,>=2.10->tensorflow-gpu) (0.6.1)\n",
            "Requirement already satisfied: requests<3,>=2.21.0 in /usr/local/lib/python3.7/dist-packages (from tensorboard<2.11,>=2.10->tensorflow-gpu) (2.23.0)\n",
            "Requirement already satisfied: rsa<5,>=3.1.4 in /usr/local/lib/python3.7/dist-packages (from google-auth<3,>=1.6.3->tensorboard<2.11,>=2.10->tensorflow-gpu) (4.9)\n",
            "Requirement already satisfied: pyasn1-modules>=0.2.1 in /usr/local/lib/python3.7/dist-packages (from google-auth<3,>=1.6.3->tensorboard<2.11,>=2.10->tensorflow-gpu) (0.2.8)\n",
            "Requirement already satisfied: cachetools<5.0,>=2.0.0 in /usr/local/lib/python3.7/dist-packages (from google-auth<3,>=1.6.3->tensorboard<2.11,>=2.10->tensorflow-gpu) (4.2.4)\n",
            "Requirement already satisfied: requests-oauthlib>=0.7.0 in /usr/local/lib/python3.7/dist-packages (from google-auth-oauthlib<0.5,>=0.4.1->tensorboard<2.11,>=2.10->tensorflow-gpu) (1.3.1)\n",
            "Requirement already satisfied: importlib-metadata>=4.4 in /usr/local/lib/python3.7/dist-packages (from markdown>=2.6.8->tensorboard<2.11,>=2.10->tensorflow-gpu) (4.12.0)\n",
            "Requirement already satisfied: zipp>=0.5 in /usr/local/lib/python3.7/dist-packages (from importlib-metadata>=4.4->markdown>=2.6.8->tensorboard<2.11,>=2.10->tensorflow-gpu) (3.8.1)\n",
            "Requirement already satisfied: pyasn1<0.5.0,>=0.4.6 in /usr/local/lib/python3.7/dist-packages (from pyasn1-modules>=0.2.1->google-auth<3,>=1.6.3->tensorboard<2.11,>=2.10->tensorflow-gpu) (0.4.8)\n",
            "Requirement already satisfied: certifi>=2017.4.17 in /usr/local/lib/python3.7/dist-packages (from requests<3,>=2.21.0->tensorboard<2.11,>=2.10->tensorflow-gpu) (2022.6.15)\n",
            "Requirement already satisfied: chardet<4,>=3.0.2 in /usr/local/lib/python3.7/dist-packages (from requests<3,>=2.21.0->tensorboard<2.11,>=2.10->tensorflow-gpu) (3.0.4)\n",
            "Requirement already satisfied: urllib3!=1.25.0,!=1.25.1,<1.26,>=1.21.1 in /usr/local/lib/python3.7/dist-packages (from requests<3,>=2.21.0->tensorboard<2.11,>=2.10->tensorflow-gpu) (1.24.3)\n",
            "Requirement already satisfied: idna<3,>=2.5 in /usr/local/lib/python3.7/dist-packages (from requests<3,>=2.21.0->tensorboard<2.11,>=2.10->tensorflow-gpu) (2.10)\n",
            "Requirement already satisfied: oauthlib>=3.0.0 in /usr/local/lib/python3.7/dist-packages (from requests-oauthlib>=0.7.0->google-auth-oauthlib<0.5,>=0.4.1->tensorboard<2.11,>=2.10->tensorflow-gpu) (3.2.0)\n",
            "Requirement already satisfied: pyparsing!=3.0.5,>=2.0.2 in /usr/local/lib/python3.7/dist-packages (from packaging->tensorflow-gpu) (3.0.9)\n",
            "Installing collected packages: tensorflow-estimator, tensorboard, keras, gast, tensorflow-gpu\n",
            "  Attempting uninstall: tensorflow-estimator\n",
            "    Found existing installation: tensorflow-estimator 2.8.0\n",
            "    Uninstalling tensorflow-estimator-2.8.0:\n",
            "      Successfully uninstalled tensorflow-estimator-2.8.0\n",
            "  Attempting uninstall: tensorboard\n",
            "    Found existing installation: tensorboard 2.8.0\n",
            "    Uninstalling tensorboard-2.8.0:\n",
            "      Successfully uninstalled tensorboard-2.8.0\n",
            "  Attempting uninstall: keras\n",
            "    Found existing installation: keras 2.8.0\n",
            "    Uninstalling keras-2.8.0:\n",
            "      Successfully uninstalled keras-2.8.0\n",
            "  Attempting uninstall: gast\n",
            "    Found existing installation: gast 0.5.3\n",
            "    Uninstalling gast-0.5.3:\n",
            "      Successfully uninstalled gast-0.5.3\n",
            "Successfully installed gast-0.4.0 keras-2.10.0 tensorboard-2.10.0 tensorflow-estimator-2.10.0 tensorflow-gpu-2.10.0\n",
            "Reading package lists...\n",
            "Building dependency tree...\n",
            "Reading state information...\n",
            "The following package was automatically installed and is no longer required:\n",
            "  libnvidia-common-460\n",
            "Use 'apt autoremove' to remove it.\n",
            "The following packages will be REMOVED:\n",
            "  libcudnn8-dev\n",
            "The following held packages will be changed:\n",
            "  libcudnn8\n",
            "The following packages will be upgraded:\n",
            "  libcudnn8\n",
            "1 upgraded, 0 newly installed, 1 to remove and 18 not upgraded.\n",
            "Need to get 430 MB of archives.\n",
            "After this operation, 3,139 MB disk space will be freed.\n",
            "Get:1 https://developer.download.nvidia.com/compute/cuda/repos/ubuntu1804/x86_64  libcudnn8 8.1.0.77-1+cuda11.2 [430 MB]\n",
            "Fetched 430 MB in 7s (63.8 MB/s)\n",
            "(Reading database ... \r(Reading database ... 5%\r(Reading database ... 10%\r(Reading database ... 15%\r(Reading database ... 20%\r(Reading database ... 25%\r(Reading database ... 30%\r(Reading database ... 35%\r(Reading database ... 40%\r(Reading database ... 45%\r(Reading database ... 50%\r(Reading database ... 55%\r(Reading database ... 60%\r(Reading database ... 65%\r(Reading database ... 70%\r(Reading database ... 75%\r(Reading database ... 80%\r(Reading database ... 85%\r(Reading database ... 90%\r(Reading database ... 95%\r(Reading database ... 100%\r(Reading database ... 155569 files and directories currently installed.)\r\n",
            "Removing libcudnn8-dev (8.0.5.39-1+cuda11.1) ...\r\n",
            "(Reading database ... \r(Reading database ... 5%\r(Reading database ... 10%\r(Reading database ... 15%\r(Reading database ... 20%\r(Reading database ... 25%\r(Reading database ... 30%\r(Reading database ... 35%\r(Reading database ... 40%\r(Reading database ... 45%\r(Reading database ... 50%\r(Reading database ... 55%\r(Reading database ... 60%\r(Reading database ... 65%\r(Reading database ... 70%\r(Reading database ... 75%\r(Reading database ... 80%\r(Reading database ... 85%\r(Reading database ... 90%\r(Reading database ... 95%\r(Reading database ... 100%\r(Reading database ... 155547 files and directories currently installed.)\r\n",
            "Preparing to unpack .../libcudnn8_8.1.0.77-1+cuda11.2_amd64.deb ...\r\n",
            "Unpacking libcudnn8 (8.1.0.77-1+cuda11.2) over (8.0.5.39-1+cuda11.1) ...\r\n",
            "Setting up libcudnn8 (8.1.0.77-1+cuda11.2) ...\r\n",
            "Looking in indexes: https://pypi.org/simple, https://us-python.pkg.dev/colab-wheels/public/simple/\n",
            "Collecting tensorflow-addons\n",
            "  Downloading tensorflow_addons-0.17.1-cp37-cp37m-manylinux_2_17_x86_64.manylinux2014_x86_64.whl (1.1 MB)\n",
            "Requirement already satisfied: packaging in /usr/local/lib/python3.7/dist-packages (from tensorflow-addons) (21.3)\n",
            "Requirement already satisfied: typeguard>=2.7 in /usr/local/lib/python3.7/dist-packages (from tensorflow-addons) (2.7.1)\n",
            "Requirement already satisfied: pyparsing!=3.0.5,>=2.0.2 in /usr/local/lib/python3.7/dist-packages (from packaging->tensorflow-addons) (3.0.9)\n",
            "Installing collected packages: tensorflow-addons\n",
            "Successfully installed tensorflow-addons-0.17.1\n"
          ]
        },
        {
          "output_type": "stream",
          "name": "stderr",
          "text": [
            "ERROR: pip's dependency resolver does not currently take into account all the packages that are installed. This behaviour is the source of the following dependency conflicts.\n",
            "tensorflow 2.8.2+zzzcolab20220719082949 requires keras<2.9,>=2.8.0rc0, but you have keras 2.10.0 which is incompatible.\n",
            "tensorflow 2.8.2+zzzcolab20220719082949 requires tensorboard<2.9,>=2.8, but you have tensorboard 2.10.0 which is incompatible.\n",
            "tensorflow 2.8.2+zzzcolab20220719082949 requires tensorflow-estimator<2.9,>=2.8, but you have tensorflow-estimator 2.10.0 which is incompatible.\n",
            "\n",
            "WARNING: apt does not have a stable CLI interface. Use with caution in scripts.\n",
            "\n"
          ]
        }
      ]
    },
    {
      "cell_type": "code",
      "source": [
        "! git clone https://github.com/rwightman/pytorch-image-models.git"
      ],
      "metadata": {
        "colab": {
          "base_uri": "https://localhost:8080/"
        },
        "id": "WowpCJdC7-_x",
        "outputId": "7940981b-706c-4b2a-b5f9-f5831e1d4ffa"
      },
      "execution_count": null,
      "outputs": [
        {
          "output_type": "stream",
          "name": "stdout",
          "text": [
            "Cloning into 'pytorch-image-models'...\n",
            "remote: Enumerating objects: 11108, done.\u001b[K\n",
            "remote: Counting objects: 100% (32/32), done.\u001b[K\n",
            "remote: Compressing objects: 100% (26/26), done.\u001b[K\n",
            "remote: Total 11108 (delta 12), reused 15 (delta 5), pack-reused 11076\u001b[K\n",
            "Receiving objects: 100% (11108/11108), 20.55 MiB | 25.94 MiB/s, done.\n",
            "Resolving deltas: 100% (8157/8157), done.\n"
          ]
        }
      ]
    },
    {
      "cell_type": "markdown",
      "source": [
        "# Model predictions"
      ],
      "metadata": {
        "id": "U0lMdJMc7gFM"
      }
    },
    {
      "cell_type": "code",
      "source": [
        "# Libraries\n",
        "import tensorflow as tf\n",
        "from tensorflow.keras.models import Sequential, load_model\n",
        "from tensorflow.keras.applications.convnext import ConvNeXtLarge\n",
        "from tensorflow.keras.layers import Dense\n",
        "import tensorflow_addons as tfa\n",
        "import keras\n",
        "from glob import glob\n",
        "import os\n",
        "from PIL import Image, UnidentifiedImageError\n",
        "from tqdm.notebook import tqdm\n",
        "import numpy as np\n",
        "import matplotlib.pyplot as plt\n",
        "from collections import defaultdict"
      ],
      "metadata": {
        "id": "ek8yet9HGMLs",
        "colab": {
          "base_uri": "https://localhost:8080/"
        },
        "outputId": "5b1f75a1-90ef-4c95-93fd-e3fde92d1ea4"
      },
      "execution_count": null,
      "outputs": [
        {
          "output_type": "stream",
          "name": "stderr",
          "text": [
            "/usr/local/lib/python3.7/dist-packages/tensorflow_addons/utils/ensure_tf_install.py:67: UserWarning: Tensorflow Addons supports using Python ops for all Tensorflow versions above or equal to 2.7.0 and strictly below 2.10.0 (nightly versions are not supported). \n",
            " The versions of TensorFlow you are currently using is 2.10.0 and is not supported. \n",
            "Some things might work, some things might not.\n",
            "If you were to encounter a bug, do not file an issue.\n",
            "If you want to make sure you're using a tested and supported configuration, either change the TensorFlow version or the TensorFlow Addons's version. \n",
            "You can find the compatibility matrix in TensorFlow Addon's readme:\n",
            "https://github.com/tensorflow/addons\n",
            "  UserWarning,\n"
          ]
        }
      ]
    },
    {
      "cell_type": "code",
      "source": [
        "# Predefined class dict\n",
        "class_dict = {'aspect': 0, 'bud': 1, 'fall-color': 2, 'flower': 3, 'fruit': 4, 'leaf': 5, 'leaf-underside': 6, 'other': 7, 'root': 8, 'seed': 9, 'side-by-side': 10, 'stem': 11, 'venation': 12, 'vestiture': 13, 'whole-plant': 14}\n",
        "class_dict = {v: k for k, v in class_dict.items()}"
      ],
      "metadata": {
        "id": "6S1P4YMDapME"
      },
      "execution_count": null,
      "outputs": []
    },
    {
      "cell_type": "code",
      "source": [
        "# Dictionary to store all of the predictions\n",
        "pred_array = defaultdict(dict)"
      ],
      "metadata": {
        "id": "NFLOTneWShjx"
      },
      "execution_count": null,
      "outputs": []
    },
    {
      "cell_type": "markdown",
      "source": [
        "Quality model"
      ],
      "metadata": {
        "id": "5u_zyjZN_QN0"
      }
    },
    {
      "cell_type": "code",
      "source": [
        "# Quality model predictions (this results in a topk_ids.csv file)\n",
        "! python -u ./pytorch-image-models/inference.py images -b 32 --input-size 3 600 600 --num-classes 3 --no-test-pool --checkpoint /content/quality_model/last.pth.tar --model convnext_large_384_in22ft1k"
      ],
      "metadata": {
        "colab": {
          "base_uri": "https://localhost:8080/"
        },
        "id": "DTEIHVSjlyAs",
        "outputId": "cb47f0fd-a266-4d94-b908-23e58bc3a8bb"
      },
      "execution_count": null,
      "outputs": [
        {
          "output_type": "stream",
          "name": "stdout",
          "text": [
            "Loaded state_dict from checkpoint '/content/quality_model/last.pth.tar'\n",
            "Model convnext_large_384_in22ft1k created, param count: 196234947\n",
            "Predict: [0/2959] Time 9.843 (9.843)\n",
            "Predict: [10/2959] Time 1.369 (2.133)\n",
            "Predict: [20/2959] Time 1.391 (1.770)\n",
            "Predict: [30/2959] Time 1.370 (1.647)\n",
            "Predict: [40/2959] Time 1.371 (1.580)\n",
            "Predict: [50/2959] Time 1.371 (1.540)\n",
            "Predict: [60/2959] Time 1.379 (1.513)\n",
            "Predict: [70/2959] Time 1.378 (1.494)\n",
            "Predict: [80/2959] Time 1.375 (1.479)\n",
            "Predict: [90/2959] Time 1.380 (1.468)\n",
            "Predict: [100/2959] Time 1.372 (1.459)\n",
            "Predict: [110/2959] Time 1.374 (1.451)\n",
            "Predict: [120/2959] Time 1.374 (1.445)\n",
            "Predict: [130/2959] Time 1.374 (1.440)\n",
            "Predict: [140/2959] Time 1.377 (1.436)\n",
            "Predict: [150/2959] Time 1.376 (1.432)\n",
            "Predict: [160/2959] Time 1.391 (1.430)\n",
            "Predict: [170/2959] Time 1.374 (1.427)\n",
            "Predict: [180/2959] Time 1.378 (1.424)\n",
            "Predict: [190/2959] Time 1.375 (1.422)\n",
            "Predict: [200/2959] Time 1.377 (1.419)\n",
            "Predict: [210/2959] Time 1.370 (1.417)\n",
            "Predict: [220/2959] Time 1.375 (1.415)\n",
            "Predict: [230/2959] Time 1.377 (1.414)\n",
            "Predict: [240/2959] Time 1.373 (1.412)\n",
            "Predict: [250/2959] Time 1.375 (1.411)\n",
            "Predict: [260/2959] Time 1.379 (1.410)\n",
            "Predict: [270/2959] Time 1.378 (1.408)\n",
            "Predict: [280/2959] Time 1.386 (1.407)\n",
            "Predict: [290/2959] Time 1.378 (1.406)\n",
            "Predict: [300/2959] Time 1.376 (1.406)\n",
            "Predict: [310/2959] Time 1.392 (1.405)\n",
            "Predict: [320/2959] Time 1.378 (1.404)\n",
            "Predict: [330/2959] Time 1.383 (1.403)\n",
            "Predict: [340/2959] Time 1.374 (1.403)\n",
            "Predict: [350/2959] Time 1.376 (1.402)\n",
            "Predict: [360/2959] Time 1.374 (1.401)\n",
            "Predict: [370/2959] Time 1.379 (1.400)\n",
            "Predict: [380/2959] Time 1.378 (1.400)\n",
            "Predict: [390/2959] Time 1.375 (1.399)\n",
            "Predict: [400/2959] Time 1.378 (1.399)\n",
            "Predict: [410/2959] Time 1.371 (1.398)\n",
            "Predict: [420/2959] Time 1.376 (1.398)\n",
            "Predict: [430/2959] Time 1.411 (1.397)\n",
            "Predict: [440/2959] Time 1.376 (1.397)\n",
            "Predict: [450/2959] Time 1.378 (1.397)\n",
            "Predict: [460/2959] Time 1.372 (1.396)\n",
            "Predict: [470/2959] Time 1.377 (1.396)\n",
            "Predict: [480/2959] Time 1.379 (1.396)\n",
            "Predict: [490/2959] Time 1.376 (1.395)\n",
            "Predict: [500/2959] Time 1.377 (1.395)\n",
            "Predict: [510/2959] Time 1.372 (1.395)\n",
            "Predict: [520/2959] Time 1.371 (1.394)\n",
            "Predict: [530/2959] Time 1.378 (1.394)\n",
            "Predict: [540/2959] Time 1.374 (1.394)\n",
            "Predict: [550/2959] Time 1.374 (1.393)\n",
            "Predict: [560/2959] Time 1.372 (1.393)\n",
            "Predict: [570/2959] Time 1.401 (1.393)\n",
            "Predict: [580/2959] Time 1.387 (1.393)\n",
            "Predict: [590/2959] Time 1.386 (1.393)\n",
            "Predict: [600/2959] Time 1.386 (1.392)\n",
            "Predict: [610/2959] Time 1.379 (1.392)\n",
            "Predict: [620/2959] Time 1.380 (1.392)\n",
            "Predict: [630/2959] Time 1.378 (1.392)\n",
            "Predict: [640/2959] Time 1.382 (1.391)\n",
            "Predict: [650/2959] Time 1.385 (1.391)\n",
            "Predict: [660/2959] Time 1.378 (1.391)\n",
            "Predict: [670/2959] Time 1.378 (1.391)\n",
            "Predict: [680/2959] Time 1.374 (1.390)\n",
            "Predict: [690/2959] Time 1.384 (1.390)\n",
            "Predict: [700/2959] Time 1.381 (1.390)\n",
            "Predict: [710/2959] Time 1.421 (1.390)\n",
            "Predict: [720/2959] Time 1.377 (1.390)\n",
            "Predict: [730/2959] Time 1.378 (1.390)\n",
            "Predict: [740/2959] Time 1.374 (1.390)\n",
            "Predict: [750/2959] Time 1.381 (1.389)\n",
            "Predict: [760/2959] Time 1.379 (1.389)\n",
            "Predict: [770/2959] Time 1.390 (1.389)\n",
            "Predict: [780/2959] Time 1.377 (1.389)\n",
            "Predict: [790/2959] Time 1.386 (1.389)\n",
            "Predict: [800/2959] Time 1.385 (1.389)\n",
            "Predict: [810/2959] Time 1.378 (1.389)\n",
            "Predict: [820/2959] Time 1.374 (1.388)\n",
            "Predict: [830/2959] Time 1.377 (1.388)\n",
            "Predict: [840/2959] Time 1.384 (1.388)\n",
            "Predict: [850/2959] Time 1.377 (1.388)\n",
            "Predict: [860/2959] Time 1.373 (1.388)\n",
            "Predict: [870/2959] Time 1.377 (1.388)\n",
            "Predict: [880/2959] Time 1.373 (1.388)\n",
            "Predict: [890/2959] Time 1.374 (1.388)\n",
            "Predict: [900/2959] Time 1.385 (1.387)\n",
            "Predict: [910/2959] Time 1.383 (1.387)\n",
            "Predict: [920/2959] Time 1.388 (1.387)\n",
            "Predict: [930/2959] Time 1.375 (1.387)\n",
            "Predict: [940/2959] Time 1.386 (1.387)\n",
            "Predict: [950/2959] Time 1.380 (1.387)\n",
            "Predict: [960/2959] Time 1.373 (1.387)\n",
            "Predict: [970/2959] Time 1.377 (1.387)\n",
            "Predict: [980/2959] Time 1.378 (1.387)\n",
            "Predict: [990/2959] Time 1.376 (1.387)\n",
            "Predict: [1000/2959] Time 1.376 (1.386)\n",
            "Predict: [1010/2959] Time 1.376 (1.386)\n",
            "Predict: [1020/2959] Time 1.389 (1.386)\n",
            "Predict: [1030/2959] Time 1.376 (1.386)\n",
            "Predict: [1040/2959] Time 1.373 (1.386)\n",
            "Predict: [1050/2959] Time 1.376 (1.386)\n",
            "Predict: [1060/2959] Time 1.371 (1.386)\n",
            "Predict: [1070/2959] Time 1.373 (1.386)\n",
            "Predict: [1080/2959] Time 1.377 (1.386)\n",
            "Predict: [1090/2959] Time 1.379 (1.386)\n",
            "Predict: [1100/2959] Time 1.375 (1.386)\n",
            "Predict: [1110/2959] Time 1.378 (1.385)\n",
            "Predict: [1120/2959] Time 1.377 (1.385)\n",
            "Predict: [1130/2959] Time 1.384 (1.385)\n",
            "Predict: [1140/2959] Time 1.376 (1.385)\n",
            "Predict: [1150/2959] Time 1.376 (1.385)\n",
            "Predict: [1160/2959] Time 1.373 (1.385)\n",
            "Predict: [1170/2959] Time 1.374 (1.385)\n",
            "Predict: [1180/2959] Time 1.374 (1.385)\n",
            "Predict: [1190/2959] Time 1.375 (1.385)\n",
            "Predict: [1200/2959] Time 1.377 (1.385)\n",
            "Predict: [1210/2959] Time 1.376 (1.385)\n",
            "Predict: [1220/2959] Time 1.378 (1.385)\n",
            "Predict: [1230/2959] Time 1.382 (1.385)\n",
            "Predict: [1240/2959] Time 1.372 (1.385)\n",
            "Predict: [1250/2959] Time 1.375 (1.385)\n",
            "Predict: [1260/2959] Time 1.372 (1.384)\n",
            "Predict: [1270/2959] Time 1.381 (1.384)\n",
            "Predict: [1280/2959] Time 1.375 (1.384)\n",
            "Predict: [1290/2959] Time 1.377 (1.384)\n",
            "Predict: [1300/2959] Time 1.374 (1.384)\n",
            "Predict: [1310/2959] Time 1.381 (1.384)\n",
            "Predict: [1320/2959] Time 1.378 (1.384)\n",
            "Predict: [1330/2959] Time 1.379 (1.384)\n",
            "Predict: [1340/2959] Time 1.376 (1.384)\n",
            "Predict: [1350/2959] Time 1.383 (1.384)\n",
            "Predict: [1360/2959] Time 1.376 (1.384)\n",
            "Predict: [1370/2959] Time 1.376 (1.384)\n",
            "Predict: [1380/2959] Time 1.375 (1.384)\n",
            "Predict: [1390/2959] Time 1.374 (1.384)\n",
            "Predict: [1400/2959] Time 1.376 (1.384)\n",
            "Predict: [1410/2959] Time 1.373 (1.384)\n",
            "Predict: [1420/2959] Time 1.378 (1.384)\n",
            "Predict: [1430/2959] Time 1.378 (1.384)\n",
            "Predict: [1440/2959] Time 1.382 (1.384)\n",
            "Predict: [1450/2959] Time 1.376 (1.384)\n",
            "Predict: [1460/2959] Time 1.381 (1.384)\n",
            "Predict: [1470/2959] Time 1.377 (1.383)\n",
            "Predict: [1480/2959] Time 1.374 (1.383)\n",
            "Predict: [1490/2959] Time 1.412 (1.383)\n",
            "Predict: [1500/2959] Time 1.374 (1.383)\n",
            "Predict: [1510/2959] Time 1.373 (1.383)\n",
            "Predict: [1520/2959] Time 1.375 (1.383)\n",
            "Predict: [1530/2959] Time 1.374 (1.383)\n",
            "Predict: [1540/2959] Time 1.379 (1.383)\n",
            "Predict: [1550/2959] Time 1.372 (1.383)\n",
            "Predict: [1560/2959] Time 1.377 (1.383)\n",
            "Predict: [1570/2959] Time 1.380 (1.383)\n",
            "Predict: [1580/2959] Time 1.374 (1.383)\n",
            "Predict: [1590/2959] Time 1.377 (1.383)\n",
            "Predict: [1600/2959] Time 1.380 (1.383)\n",
            "Predict: [1610/2959] Time 1.379 (1.383)\n",
            "Predict: [1620/2959] Time 1.382 (1.383)\n",
            "Predict: [1630/2959] Time 1.381 (1.383)\n",
            "Predict: [1640/2959] Time 1.374 (1.383)\n",
            "Predict: [1650/2959] Time 1.377 (1.383)\n",
            "Predict: [1660/2959] Time 1.381 (1.383)\n",
            "Predict: [1670/2959] Time 1.383 (1.383)\n",
            "Predict: [1680/2959] Time 1.374 (1.383)\n",
            "Predict: [1690/2959] Time 1.377 (1.383)\n",
            "Predict: [1700/2959] Time 1.375 (1.383)\n",
            "Predict: [1710/2959] Time 1.383 (1.383)\n",
            "Predict: [1720/2959] Time 1.383 (1.383)\n",
            "Predict: [1730/2959] Time 1.372 (1.383)\n",
            "Predict: [1740/2959] Time 1.379 (1.383)\n",
            "Predict: [1750/2959] Time 1.379 (1.383)\n",
            "Predict: [1760/2959] Time 1.384 (1.383)\n",
            "Predict: [1770/2959] Time 1.373 (1.383)\n",
            "Predict: [1780/2959] Time 1.371 (1.383)\n",
            "Predict: [1790/2959] Time 1.379 (1.383)\n",
            "Predict: [1800/2959] Time 1.377 (1.382)\n",
            "Predict: [1810/2959] Time 1.381 (1.382)\n",
            "Predict: [1820/2959] Time 1.376 (1.382)\n",
            "Predict: [1830/2959] Time 1.374 (1.382)\n",
            "Predict: [1840/2959] Time 1.374 (1.382)\n",
            "Predict: [1850/2959] Time 1.379 (1.382)\n",
            "Predict: [1860/2959] Time 1.382 (1.382)\n",
            "Predict: [1870/2959] Time 1.378 (1.382)\n",
            "Predict: [1880/2959] Time 1.371 (1.382)\n",
            "Predict: [1890/2959] Time 1.372 (1.382)\n",
            "Predict: [1900/2959] Time 1.376 (1.382)\n",
            "Predict: [1910/2959] Time 1.384 (1.382)\n",
            "Predict: [1920/2959] Time 1.376 (1.382)\n",
            "Predict: [1930/2959] Time 1.384 (1.382)\n",
            "Predict: [1940/2959] Time 1.374 (1.382)\n",
            "Predict: [1950/2959] Time 1.374 (1.382)\n",
            "Predict: [1960/2959] Time 1.371 (1.382)\n",
            "Predict: [1970/2959] Time 1.382 (1.382)\n",
            "Predict: [1980/2959] Time 1.378 (1.382)\n",
            "Predict: [1990/2959] Time 1.385 (1.382)\n",
            "Predict: [2000/2959] Time 1.378 (1.382)\n",
            "Predict: [2010/2959] Time 1.382 (1.382)\n",
            "Predict: [2020/2959] Time 1.376 (1.382)\n",
            "Predict: [2030/2959] Time 1.380 (1.382)\n",
            "Predict: [2040/2959] Time 1.371 (1.382)\n",
            "Predict: [2050/2959] Time 1.379 (1.382)\n",
            "Predict: [2060/2959] Time 1.375 (1.382)\n",
            "Predict: [2070/2959] Time 1.378 (1.382)\n",
            "Predict: [2080/2959] Time 1.378 (1.382)\n",
            "Predict: [2090/2959] Time 1.381 (1.382)\n",
            "Predict: [2100/2959] Time 1.371 (1.382)\n",
            "Predict: [2110/2959] Time 1.372 (1.382)\n",
            "Predict: [2120/2959] Time 1.375 (1.382)\n",
            "WARNING: Skipped sample (index 68329, file 75638__rtw_rtw_05875.png.jpg). cannot identify image file <_io.BufferedReader name='images/75638__rtw_rtw_05875.png.jpg'>\n",
            "Predict: [2130/2959] Time 1.376 (1.382)\n",
            "Predict: [2140/2959] Time 1.372 (1.382)\n",
            "Predict: [2150/2959] Time 1.373 (1.382)\n",
            "WARNING: Skipped sample (index 69282, file 76694__rtw_rtw_06932.tif.jpg). cannot identify image file <_io.BufferedReader name='images/76694__rtw_rtw_06932.tif.jpg'>\n",
            "WARNING: Skipped sample (index 69283, file 76695__rtw_rtw_06933.tif.jpg). cannot identify image file <_io.BufferedReader name='images/76695__rtw_rtw_06933.tif.jpg'>\n",
            "WARNING: Skipped sample (index 69283, file 76695__rtw_rtw_06933.tif.jpg). cannot identify image file <_io.BufferedReader name='images/76695__rtw_rtw_06933.tif.jpg'>\n",
            "Predict: [2160/2959] Time 1.373 (1.382)\n",
            "Predict: [2170/2959] Time 1.379 (1.382)\n",
            "WARNING: Skipped sample (index 69949, file 77440__rtw_rtw_07678.tif.jpg). cannot identify image file <_io.BufferedReader name='images/77440__rtw_rtw_07678.tif.jpg'>\n",
            "Predict: [2180/2959] Time 1.378 (1.382)\n",
            "Predict: [2190/2959] Time 1.378 (1.381)\n",
            "Predict: [2200/2959] Time 1.377 (1.381)\n",
            "Predict: [2210/2959] Time 1.373 (1.381)\n",
            "Predict: [2220/2959] Time 1.385 (1.381)\n",
            "Predict: [2230/2959] Time 1.372 (1.381)\n",
            "Predict: [2240/2959] Time 1.371 (1.381)\n",
            "Predict: [2250/2959] Time 1.376 (1.381)\n",
            "Predict: [2260/2959] Time 1.383 (1.381)\n",
            "Predict: [2270/2959] Time 1.382 (1.381)\n",
            "Predict: [2280/2959] Time 1.371 (1.381)\n",
            "Predict: [2290/2959] Time 1.372 (1.381)\n",
            "Predict: [2300/2959] Time 1.373 (1.381)\n",
            "WARNING: Skipped sample (index 74005, file 81756__rtw_rtw_11997.tif.jpg). cannot identify image file <_io.BufferedReader name='images/81756__rtw_rtw_11997.tif.jpg'>\n",
            "WARNING: Skipped sample (index 74007, file 81758__rtw_rtw_11999.tif.jpg). cannot identify image file <_io.BufferedReader name='images/81758__rtw_rtw_11999.tif.jpg'>\n",
            "Predict: [2310/2959] Time 1.379 (1.381)\n",
            "Predict: [2320/2959] Time 1.381 (1.381)\n",
            "Predict: [2330/2959] Time 1.380 (1.381)\n",
            "Predict: [2340/2959] Time 1.391 (1.381)\n",
            "Predict: [2350/2959] Time 1.380 (1.381)\n",
            "Predict: [2360/2959] Time 1.374 (1.381)\n",
            "Predict: [2370/2959] Time 1.375 (1.381)\n",
            "Predict: [2380/2959] Time 1.380 (1.381)\n",
            "Predict: [2390/2959] Time 1.379 (1.381)\n",
            "WARNING: Skipped sample (index 76847, file 84718__rtw_rtw_14959.tif.jpg). cannot identify image file <_io.BufferedReader name='images/84718__rtw_rtw_14959.tif.jpg'>\n",
            "WARNING: Skipped sample (index 76849, file 84720__rtw_rtw_14961.tif.jpg). cannot identify image file <_io.BufferedReader name='images/84720__rtw_rtw_14961.tif.jpg'>\n",
            "WARNING: Skipped sample (index 76851, file 84722__rtw_rtw_14963.tif.jpg). cannot identify image file <_io.BufferedReader name='images/84722__rtw_rtw_14963.tif.jpg'>\n",
            "Predict: [2400/2959] Time 1.370 (1.381)\n",
            "Predict: [2410/2959] Time 1.376 (1.381)\n",
            "Predict: [2420/2959] Time 1.371 (1.381)\n",
            "Predict: [2430/2959] Time 1.371 (1.381)\n",
            "Predict: [2440/2959] Time 1.371 (1.381)\n",
            "Predict: [2450/2959] Time 1.380 (1.381)\n",
            "Predict: [2460/2959] Time 1.374 (1.381)\n",
            "Predict: [2470/2959] Time 1.375 (1.381)\n",
            "Predict: [2480/2959] Time 1.371 (1.381)\n",
            "Predict: [2490/2959] Time 1.374 (1.381)\n",
            "Predict: [2500/2959] Time 1.377 (1.381)\n",
            "Predict: [2510/2959] Time 1.377 (1.381)\n",
            "Predict: [2520/2959] Time 1.381 (1.381)\n",
            "Predict: [2530/2959] Time 1.373 (1.381)\n",
            "Predict: [2540/2959] Time 1.372 (1.381)\n",
            "Predict: [2550/2959] Time 1.379 (1.381)\n",
            "Predict: [2560/2959] Time 1.375 (1.381)\n",
            "Predict: [2570/2959] Time 1.381 (1.381)\n",
            "Predict: [2580/2959] Time 1.380 (1.381)\n",
            "WARNING: Skipped sample (index 82829, file 90947__rtw_rtw_21188.tif.jpg). cannot identify image file <_io.BufferedReader name='images/90947__rtw_rtw_21188.tif.jpg'>\n",
            "Predict: [2590/2959] Time 1.384 (1.381)\n",
            "Predict: [2600/2959] Time 1.370 (1.381)\n",
            "Predict: [2610/2959] Time 1.376 (1.381)\n",
            "Predict: [2620/2959] Time 1.385 (1.381)\n",
            "Predict: [2630/2959] Time 1.370 (1.381)\n",
            "Predict: [2640/2959] Time 1.385 (1.381)\n",
            "Predict: [2650/2959] Time 1.372 (1.381)\n",
            "Predict: [2660/2959] Time 1.374 (1.381)\n",
            "Predict: [2670/2959] Time 1.370 (1.381)\n",
            "Predict: [2680/2959] Time 1.389 (1.381)\n",
            "WARNING: Skipped sample (index 86169, file 94463__rtw_rtw_24704.tif.jpg). cannot identify image file <_io.BufferedReader name='images/94463__rtw_rtw_24704.tif.jpg'>\n",
            "WARNING: Skipped sample (index 86181, file 94475__rtw_rtw_24716.tif.jpg). cannot identify image file <_io.BufferedReader name='images/94475__rtw_rtw_24716.tif.jpg'>\n",
            "Predict: [2690/2959] Time 1.371 (1.381)\n",
            "WARNING: Skipped sample (index 86273, file 94567__rtw_rtw_24808.tif.jpg). cannot identify image file <_io.BufferedReader name='images/94567__rtw_rtw_24808.tif.jpg'>\n",
            "Predict: [2700/2959] Time 1.372 (1.381)\n",
            "Predict: [2710/2959] Time 1.385 (1.381)\n",
            "Predict: [2720/2959] Time 1.377 (1.381)\n",
            "WARNING: Skipped sample (index 87332, file 95667__rtw_rtw_25906.tif.jpg). cannot identify image file <_io.BufferedReader name='images/95667__rtw_rtw_25906.tif.jpg'>\n",
            "WARNING: Skipped sample (index 87334, file 95669__rtw_rtw_25908.tif.jpg). cannot identify image file <_io.BufferedReader name='images/95669__rtw_rtw_25908.tif.jpg'>\n",
            "Predict: [2730/2959] Time 1.377 (1.381)\n",
            "Predict: [2740/2959] Time 1.377 (1.381)\n",
            "Predict: [2750/2959] Time 1.377 (1.381)\n",
            "WARNING: Skipped sample (index 88410, file 96769__rtw_rtw_27008.tif.jpg). cannot identify image file <_io.BufferedReader name='images/96769__rtw_rtw_27008.tif.jpg'>\n",
            "Predict: [2760/2959] Time 1.373 (1.381)\n",
            "Predict: [2770/2959] Time 1.377 (1.381)\n",
            "Predict: [2780/2959] Time 1.377 (1.381)\n",
            "Predict: [2790/2959] Time 1.383 (1.381)\n",
            "Predict: [2800/2959] Time 1.376 (1.381)\n",
            "Predict: [2810/2959] Time 1.380 (1.381)\n",
            "Predict: [2820/2959] Time 1.377 (1.381)\n",
            "WARNING: Skipped sample (index 90582, file 99010__rtw_rtw_29249.tif.jpg). cannot identify image file <_io.BufferedReader name='images/99010__rtw_rtw_29249.tif.jpg'>\n",
            "Predict: [2830/2959] Time 1.380 (1.381)\n",
            "Predict: [2840/2959] Time 1.378 (1.381)\n",
            "Predict: [2850/2959] Time 1.377 (1.381)\n",
            "Predict: [2860/2959] Time 1.378 (1.381)\n",
            "Predict: [2870/2959] Time 1.374 (1.380)\n",
            "Predict: [2880/2959] Time 1.378 (1.380)\n",
            "Predict: [2890/2959] Time 1.381 (1.380)\n",
            "Predict: [2900/2959] Time 1.384 (1.380)\n",
            "Predict: [2910/2959] Time 1.373 (1.380)\n",
            "Predict: [2920/2959] Time 1.383 (1.380)\n",
            "Predict: [2930/2959] Time 1.381 (1.380)\n",
            "Predict: [2940/2959] Time 1.386 (1.380)\n",
            "Predict: [2950/2959] Time 1.385 (1.380)\n"
          ]
        }
      ]
    },
    {
      "cell_type": "code",
      "source": [
        "# Gather predictions from output file\n",
        "qpred_file = open(\"topk_ids.csv\")\n",
        "qpred_lines = qpred_file.readlines()\n",
        "\n",
        "qual_dict = {}\n",
        "for l in qpred_lines:\n",
        "  l = l.strip().split(\",\")\n",
        "  bn, top = l[0], l[1]\n",
        "  qual_dict[bn] = top"
      ],
      "metadata": {
        "id": "vjLVaGIggZkS"
      },
      "execution_count": null,
      "outputs": []
    },
    {
      "cell_type": "markdown",
      "source": [
        "Parts model\n"
      ],
      "metadata": {
        "id": "LjzVPHuw_Rhl"
      }
    },
    {
      "cell_type": "code",
      "source": [
        "# Load the model\n",
        "opt = tfa.optimizers.AdaBelief(learning_rate=1e-3)\n",
        "custom_objects = {\"AdaBelief\": opt}\n",
        "\n",
        "with keras.utils.custom_object_scope(custom_objects):\n",
        "  model = load_model(\"mp_2b\")"
      ],
      "metadata": {
        "id": "mZnndA1PNoEE"
      },
      "execution_count": null,
      "outputs": []
    },
    {
      "cell_type": "code",
      "source": [
        "images_glob = list(glob(\"images/*.*\"))\n",
        "batched_images = np.array(images_glob)\n",
        "batched_images = np.array_split(batched_images, len(images_glob) / 32)"
      ],
      "metadata": {
        "id": "Gp9xudQVKNRZ"
      },
      "execution_count": null,
      "outputs": []
    },
    {
      "cell_type": "code",
      "source": [
        "# Create predictions for all test set images\n",
        "for batch in tqdm(batched_images):\n",
        "  pred_images = []\n",
        "  proc_batch_ims = []\n",
        "  for im_fn in batch: # Inner for-loop to process images individually with their basenames\n",
        "    bn = os.path.basename(im_fn)\n",
        "    pred_quality = qual_dict[bn]\n",
        "\n",
        "    bn = f\"{bn.replace('.jpg', '')}.jpg\" # Had a filename extension mishap\n",
        "    idx, rest = bn.split(\"__\")\n",
        "    bn_split = rest.split(\"_\")\n",
        "    directory, orig_bn = [bn_split[0], '_'.join(bn_split[1:])]\n",
        "\n",
        "    pred_array[orig_bn][\"directory\"] = directory\n",
        "    if pred_quality is not None:\n",
        "      pred_array[orig_bn][\"imagequality\"] = pred_quality\n",
        "\n",
        "    try:\n",
        "      im_o = Image.open(im_fn)\n",
        "      im = im_o.resize((448, 448))\n",
        "      if im.mode == 'L':\n",
        "        im = im.convert('RGB')\n",
        "      im = np.array(im, dtype=int)\n",
        "      im = np.reshape(im, (448, 448, 3))\n",
        "    except:\n",
        "      continue\n",
        "\n",
        "    pred_images.append(im)\n",
        "    proc_batch_ims.append(orig_bn)\n",
        "\n",
        "  pred = np.array(model(np.array(pred_images))) # Model predictions operate on the outer for-loop per batch\n",
        "  for orig_bn, p in zip(proc_batch_ims, pred): # Deconstruct and reassign predictions to each basename\n",
        "    p = [round(v, 4) for v in p]\n",
        "    pred_labels = ';'.join([class_dict[idx] for idx, v in enumerate(p) if v > 0.1])\n",
        "    pred_array[orig_bn][\"image_context\"] = pred_labels\n",
        "  "
      ],
      "metadata": {
        "id": "W98kkmxGBNI8",
        "colab": {
          "base_uri": "https://localhost:8080/",
          "height": 49,
          "referenced_widgets": [
            "157fa348fdce477897a48241178db726",
            "98a7383bf20e4a0c8b3a87dd3db761c9",
            "86d13aedf7bf42b0bb407c749bf88afb",
            "922cc70a9f6c4edea99b7c76c0767e5d",
            "2cc8915426dc4b4daf9e4b6eb3d74cad",
            "bdd3de997103429080e17b82a6d5fcb9",
            "3e9fd044381b4ca799219703fdfc6e17",
            "0b63b20112054a96b7827b6255c583e2",
            "09a8b60421e44675b302ce35bb7fe3a3",
            "c89c6f38155b46b9bc4e9790c5da981e",
            "9a10a70cfb094ad38036ed3467876fcf"
          ]
        },
        "outputId": "c9bbd7ba-7b19-451a-80c5-9598a4d855bf"
      },
      "execution_count": null,
      "outputs": [
        {
          "output_type": "display_data",
          "data": {
            "text/plain": [
              "  0%|          | 0/2959 [00:00<?, ?it/s]"
            ],
            "application/vnd.jupyter.widget-view+json": {
              "version_major": 2,
              "version_minor": 0,
              "model_id": "157fa348fdce477897a48241178db726"
            }
          },
          "metadata": {}
        }
      ]
    },
    {
      "cell_type": "code",
      "source": [
        "print(list(pred_array.items())[:50])"
      ],
      "metadata": {
        "colab": {
          "base_uri": "https://localhost:8080/"
        },
        "id": "A3eXUi9JjZVc",
        "outputId": "63b99664-0ca0-434f-80a9-f8d4ea2c27c2"
      },
      "execution_count": null,
      "outputs": [
        {
          "output_type": "stream",
          "name": "stdout",
          "text": [
            "[('rtw_29116.jpg', {'directory': 'rtw', 'imagequality': '2', 'image_context': 'flower'}), ('ed_20547.jpg', {'directory': 'ed', 'imagequality': '1', 'image_context': 'aspect;leaf'}), ('ed_20278.jpg', {'directory': 'ed', 'imagequality': '1', 'image_context': 'leaf;whole-plant'}), ('rtw_19134.jpg', {'directory': 'rtw', 'imagequality': '1', 'image_context': 'flower'}), ('rtw_01946.jpg', {'directory': 'rtw', 'imagequality': '2', 'image_context': 'flower'}), ('ed_07217.jpg', {'directory': 'ed', 'imagequality': '2', 'image_context': 'whole-plant'}), ('ed_17500.jpg', {'directory': 'ed', 'imagequality': '2', 'image_context': 'aspect'}), ('rtw_10053.jpg', {'directory': 'rtw', 'imagequality': '2', 'image_context': 'leaf'}), ('rtw_30448.jpg', {'directory': 'rtw', 'imagequality': '2', 'image_context': 'flower'}), ('rtw_16920.jpg', {'directory': 'rtw', 'imagequality': '2', 'image_context': 'flower'}), ('bas_04798.jpg', {'directory': 'bas', 'imagequality': '2', 'image_context': 'aspect'}), ('gpf_04810.jpg', {'directory': 'gpf', 'imagequality': '2', 'image_context': 'flower;stem'}), ('hardin_slide_2128.jpg', {'directory': 'jwh', 'imagequality': '0', 'image_context': 'aspect'}), ('rtw_02516.jpg', {'directory': 'rtw', 'imagequality': '2', 'image_context': 'flower;leaf'}), ('rtw_28846.jpg', {'directory': 'rtw', 'imagequality': '2', 'image_context': 'flower'}), ('rtw_06629.jpg', {'directory': 'rtw', 'imagequality': '2', 'image_context': 'bud'}), ('jp_00621.jpg', {'directory': 'jp', 'imagequality': '2', 'image_context': 'aspect'}), ('rtw_16512.jpg', {'directory': 'rtw', 'imagequality': '2', 'image_context': 'leaf'}), ('ed_04200.jpg', {'directory': 'ed', 'imagequality': '2', 'image_context': 'aspect'}), ('20140509_141524.jpg', {'directory': 'gmp', 'imagequality': '2', 'image_context': 'flower'}), ('rtw_09832.jpg', {'directory': 'rtw', 'imagequality': '1', 'image_context': 'aspect'}), ('ed_21406.jpg', {'directory': 'ed', 'imagequality': '2', 'image_context': 'aspect;stem'}), ('jp_00725.jpg', {'directory': 'jp', 'imagequality': '1', 'image_context': 'flower'}), ('rtw_10018.jpg', {'directory': 'rtw', 'imagequality': '2', 'image_context': 'flower;stem'}), ('ed_08920.jpg', {'directory': 'ed', 'imagequality': '2', 'image_context': 'whole-plant'}), ('gpf_03173.jpg', {'directory': 'gpf', 'imagequality': '2', 'image_context': 'flower'}), ('ed_07588.jpg', {'directory': 'ed', 'imagequality': '2', 'image_context': 'aspect;leaf'}), ('gpf_05952.jpg', {'directory': 'gpf', 'imagequality': '2', 'image_context': 'stem'}), ('jsh_04616.jpg', {'directory': 'jsh', 'imagequality': '2', 'image_context': 'leaf'}), ('rtw_18330.jpg', {'directory': 'rtw', 'imagequality': '2', 'image_context': 'aspect;flower;leaf'}), ('jg_01650.jpg', {'directory': 'jg', 'imagequality': '2', 'image_context': 'flower;fruit'}), ('ed_20783.jpg', {'directory': 'ed', 'imagequality': '2', 'image_context': 'aspect;leaf'}), ('ed_16594.jpg', {'directory': 'ed', 'imagequality': '2', 'image_context': 'aspect;leaf'}), ('rtw_08923.jpg', {'directory': 'rtw', 'imagequality': '2', 'image_context': 'fall-color;fruit;leaf'}), ('rtw_01202.jpg', {'directory': 'rtw', 'imagequality': '2', 'image_context': 'flower'}), ('jp_00343.jpg', {'directory': 'jp', 'imagequality': '2', 'image_context': 'bud;flower'}), ('hardin_slide_1331.jpg', {'directory': 'jwh', 'imagequality': '1', 'image_context': 'fall-color'}), ('jg_01696.jpg', {'directory': 'jg', 'imagequality': '2', 'image_context': 'flower'}), ('hardin_slide_0751.jpg', {'directory': 'jwh', 'imagequality': '2', 'image_context': 'fruit;leaf'}), ('rtw_05559.jpg', {'directory': 'rtw', 'imagequality': '2', 'image_context': 'flower;leaf'}), ('ed_04939.jpg', {'directory': 'ed', 'imagequality': '1', 'image_context': 'leaf'}), ('rtw_13939.jpg', {'directory': 'rtw', 'imagequality': '2', 'image_context': 'flower'}), ('ed_14536.jpg', {'directory': 'ed', 'imagequality': '1', 'image_context': 'aspect;whole-plant'}), ('rtw_14059.jpg', {'directory': 'rtw', 'imagequality': '2', 'image_context': 'flower'}), ('gpf_08284.jpg', {'directory': 'gpf', 'imagequality': '2', 'image_context': 'leaf'}), ('rtw_30060.jpg', {'directory': 'rtw', 'imagequality': '2', 'image_context': 'flower'}), ('rtw_20119.jpg', {'directory': 'rtw', 'imagequality': '2', 'image_context': 'flower'}), ('rtw_28498.jpg', {'directory': 'rtw', 'imagequality': '2', 'image_context': 'flower'}), ('rtw_17496.jpg', {'directory': 'rtw', 'imagequality': '2', 'image_context': 'leaf'}), ('ed_07755.jpg', {'directory': 'ed', 'imagequality': '1', 'image_context': 'stem;whole-plant'})]\n"
          ]
        }
      ]
    },
    {
      "cell_type": "code",
      "source": [
        "out_list = [\"file,directory,imagequality,image_context\"]\n",
        "for im_bn, metadata in pred_array.items():\n",
        "  try:\n",
        "    out_list.append(f\"{im_bn},{metadata['directory']},{metadata['imagequality']},{metadata['image_context']}\")\n",
        "  except KeyError:\n",
        "    pass"
      ],
      "metadata": {
        "id": "NtaNt_tigTSj"
      },
      "execution_count": null,
      "outputs": []
    },
    {
      "cell_type": "code",
      "source": [
        "out_file = open(\"pred_list.csv\", 'w')\n",
        "out_file.write('\\n'.join(out_list))\n",
        "out_file.close()"
      ],
      "metadata": {
        "id": "pvIVS_PTjklg"
      },
      "execution_count": null,
      "outputs": []
    },
    {
      "cell_type": "code",
      "source": [
        "! cp pred_list.csv drive/MyDrive/UNC/NCBG/pred_list.csv"
      ],
      "metadata": {
        "id": "P9BPCvn2jyAe"
      },
      "execution_count": null,
      "outputs": []
    },
    {
      "cell_type": "code",
      "source": [],
      "metadata": {
        "id": "wMHF58H_RZ1h"
      },
      "execution_count": null,
      "outputs": []
    }
  ],
  "metadata": {
    "accelerator": "GPU",
    "colab": {
      "collapsed_sections": [],
      "provenance": [],
      "mount_file_id": "1pttceHF409pYPligFziUCD7rS2GUrxPc",
      "authorship_tag": "ABX9TyPZXcecD+H5IWlBuK+uucE0",
      "include_colab_link": true
    },
    "gpuClass": "standard",
    "kernelspec": {
      "display_name": "Python 3",
      "name": "python3"
    },
    "language_info": {
      "name": "python"
    },
    "widgets": {
      "application/vnd.jupyter.widget-state+json": {
        "157fa348fdce477897a48241178db726": {
          "model_module": "@jupyter-widgets/controls",
          "model_name": "HBoxModel",
          "model_module_version": "1.5.0",
          "state": {
            "_dom_classes": [],
            "_model_module": "@jupyter-widgets/controls",
            "_model_module_version": "1.5.0",
            "_model_name": "HBoxModel",
            "_view_count": null,
            "_view_module": "@jupyter-widgets/controls",
            "_view_module_version": "1.5.0",
            "_view_name": "HBoxView",
            "box_style": "",
            "children": [
              "IPY_MODEL_98a7383bf20e4a0c8b3a87dd3db761c9",
              "IPY_MODEL_86d13aedf7bf42b0bb407c749bf88afb",
              "IPY_MODEL_922cc70a9f6c4edea99b7c76c0767e5d"
            ],
            "layout": "IPY_MODEL_2cc8915426dc4b4daf9e4b6eb3d74cad"
          }
        },
        "98a7383bf20e4a0c8b3a87dd3db761c9": {
          "model_module": "@jupyter-widgets/controls",
          "model_name": "HTMLModel",
          "model_module_version": "1.5.0",
          "state": {
            "_dom_classes": [],
            "_model_module": "@jupyter-widgets/controls",
            "_model_module_version": "1.5.0",
            "_model_name": "HTMLModel",
            "_view_count": null,
            "_view_module": "@jupyter-widgets/controls",
            "_view_module_version": "1.5.0",
            "_view_name": "HTMLView",
            "description": "",
            "description_tooltip": null,
            "layout": "IPY_MODEL_bdd3de997103429080e17b82a6d5fcb9",
            "placeholder": "​",
            "style": "IPY_MODEL_3e9fd044381b4ca799219703fdfc6e17",
            "value": "100%"
          }
        },
        "86d13aedf7bf42b0bb407c749bf88afb": {
          "model_module": "@jupyter-widgets/controls",
          "model_name": "FloatProgressModel",
          "model_module_version": "1.5.0",
          "state": {
            "_dom_classes": [],
            "_model_module": "@jupyter-widgets/controls",
            "_model_module_version": "1.5.0",
            "_model_name": "FloatProgressModel",
            "_view_count": null,
            "_view_module": "@jupyter-widgets/controls",
            "_view_module_version": "1.5.0",
            "_view_name": "ProgressView",
            "bar_style": "success",
            "description": "",
            "description_tooltip": null,
            "layout": "IPY_MODEL_0b63b20112054a96b7827b6255c583e2",
            "max": 2959,
            "min": 0,
            "orientation": "horizontal",
            "style": "IPY_MODEL_09a8b60421e44675b302ce35bb7fe3a3",
            "value": 2959
          }
        },
        "922cc70a9f6c4edea99b7c76c0767e5d": {
          "model_module": "@jupyter-widgets/controls",
          "model_name": "HTMLModel",
          "model_module_version": "1.5.0",
          "state": {
            "_dom_classes": [],
            "_model_module": "@jupyter-widgets/controls",
            "_model_module_version": "1.5.0",
            "_model_name": "HTMLModel",
            "_view_count": null,
            "_view_module": "@jupyter-widgets/controls",
            "_view_module_version": "1.5.0",
            "_view_name": "HTMLView",
            "description": "",
            "description_tooltip": null,
            "layout": "IPY_MODEL_c89c6f38155b46b9bc4e9790c5da981e",
            "placeholder": "​",
            "style": "IPY_MODEL_9a10a70cfb094ad38036ed3467876fcf",
            "value": " 2959/2959 [1:13:43&lt;00:00,  1.43s/it]"
          }
        },
        "2cc8915426dc4b4daf9e4b6eb3d74cad": {
          "model_module": "@jupyter-widgets/base",
          "model_name": "LayoutModel",
          "model_module_version": "1.2.0",
          "state": {
            "_model_module": "@jupyter-widgets/base",
            "_model_module_version": "1.2.0",
            "_model_name": "LayoutModel",
            "_view_count": null,
            "_view_module": "@jupyter-widgets/base",
            "_view_module_version": "1.2.0",
            "_view_name": "LayoutView",
            "align_content": null,
            "align_items": null,
            "align_self": null,
            "border": null,
            "bottom": null,
            "display": null,
            "flex": null,
            "flex_flow": null,
            "grid_area": null,
            "grid_auto_columns": null,
            "grid_auto_flow": null,
            "grid_auto_rows": null,
            "grid_column": null,
            "grid_gap": null,
            "grid_row": null,
            "grid_template_areas": null,
            "grid_template_columns": null,
            "grid_template_rows": null,
            "height": null,
            "justify_content": null,
            "justify_items": null,
            "left": null,
            "margin": null,
            "max_height": null,
            "max_width": null,
            "min_height": null,
            "min_width": null,
            "object_fit": null,
            "object_position": null,
            "order": null,
            "overflow": null,
            "overflow_x": null,
            "overflow_y": null,
            "padding": null,
            "right": null,
            "top": null,
            "visibility": null,
            "width": null
          }
        },
        "bdd3de997103429080e17b82a6d5fcb9": {
          "model_module": "@jupyter-widgets/base",
          "model_name": "LayoutModel",
          "model_module_version": "1.2.0",
          "state": {
            "_model_module": "@jupyter-widgets/base",
            "_model_module_version": "1.2.0",
            "_model_name": "LayoutModel",
            "_view_count": null,
            "_view_module": "@jupyter-widgets/base",
            "_view_module_version": "1.2.0",
            "_view_name": "LayoutView",
            "align_content": null,
            "align_items": null,
            "align_self": null,
            "border": null,
            "bottom": null,
            "display": null,
            "flex": null,
            "flex_flow": null,
            "grid_area": null,
            "grid_auto_columns": null,
            "grid_auto_flow": null,
            "grid_auto_rows": null,
            "grid_column": null,
            "grid_gap": null,
            "grid_row": null,
            "grid_template_areas": null,
            "grid_template_columns": null,
            "grid_template_rows": null,
            "height": null,
            "justify_content": null,
            "justify_items": null,
            "left": null,
            "margin": null,
            "max_height": null,
            "max_width": null,
            "min_height": null,
            "min_width": null,
            "object_fit": null,
            "object_position": null,
            "order": null,
            "overflow": null,
            "overflow_x": null,
            "overflow_y": null,
            "padding": null,
            "right": null,
            "top": null,
            "visibility": null,
            "width": null
          }
        },
        "3e9fd044381b4ca799219703fdfc6e17": {
          "model_module": "@jupyter-widgets/controls",
          "model_name": "DescriptionStyleModel",
          "model_module_version": "1.5.0",
          "state": {
            "_model_module": "@jupyter-widgets/controls",
            "_model_module_version": "1.5.0",
            "_model_name": "DescriptionStyleModel",
            "_view_count": null,
            "_view_module": "@jupyter-widgets/base",
            "_view_module_version": "1.2.0",
            "_view_name": "StyleView",
            "description_width": ""
          }
        },
        "0b63b20112054a96b7827b6255c583e2": {
          "model_module": "@jupyter-widgets/base",
          "model_name": "LayoutModel",
          "model_module_version": "1.2.0",
          "state": {
            "_model_module": "@jupyter-widgets/base",
            "_model_module_version": "1.2.0",
            "_model_name": "LayoutModel",
            "_view_count": null,
            "_view_module": "@jupyter-widgets/base",
            "_view_module_version": "1.2.0",
            "_view_name": "LayoutView",
            "align_content": null,
            "align_items": null,
            "align_self": null,
            "border": null,
            "bottom": null,
            "display": null,
            "flex": null,
            "flex_flow": null,
            "grid_area": null,
            "grid_auto_columns": null,
            "grid_auto_flow": null,
            "grid_auto_rows": null,
            "grid_column": null,
            "grid_gap": null,
            "grid_row": null,
            "grid_template_areas": null,
            "grid_template_columns": null,
            "grid_template_rows": null,
            "height": null,
            "justify_content": null,
            "justify_items": null,
            "left": null,
            "margin": null,
            "max_height": null,
            "max_width": null,
            "min_height": null,
            "min_width": null,
            "object_fit": null,
            "object_position": null,
            "order": null,
            "overflow": null,
            "overflow_x": null,
            "overflow_y": null,
            "padding": null,
            "right": null,
            "top": null,
            "visibility": null,
            "width": null
          }
        },
        "09a8b60421e44675b302ce35bb7fe3a3": {
          "model_module": "@jupyter-widgets/controls",
          "model_name": "ProgressStyleModel",
          "model_module_version": "1.5.0",
          "state": {
            "_model_module": "@jupyter-widgets/controls",
            "_model_module_version": "1.5.0",
            "_model_name": "ProgressStyleModel",
            "_view_count": null,
            "_view_module": "@jupyter-widgets/base",
            "_view_module_version": "1.2.0",
            "_view_name": "StyleView",
            "bar_color": null,
            "description_width": ""
          }
        },
        "c89c6f38155b46b9bc4e9790c5da981e": {
          "model_module": "@jupyter-widgets/base",
          "model_name": "LayoutModel",
          "model_module_version": "1.2.0",
          "state": {
            "_model_module": "@jupyter-widgets/base",
            "_model_module_version": "1.2.0",
            "_model_name": "LayoutModel",
            "_view_count": null,
            "_view_module": "@jupyter-widgets/base",
            "_view_module_version": "1.2.0",
            "_view_name": "LayoutView",
            "align_content": null,
            "align_items": null,
            "align_self": null,
            "border": null,
            "bottom": null,
            "display": null,
            "flex": null,
            "flex_flow": null,
            "grid_area": null,
            "grid_auto_columns": null,
            "grid_auto_flow": null,
            "grid_auto_rows": null,
            "grid_column": null,
            "grid_gap": null,
            "grid_row": null,
            "grid_template_areas": null,
            "grid_template_columns": null,
            "grid_template_rows": null,
            "height": null,
            "justify_content": null,
            "justify_items": null,
            "left": null,
            "margin": null,
            "max_height": null,
            "max_width": null,
            "min_height": null,
            "min_width": null,
            "object_fit": null,
            "object_position": null,
            "order": null,
            "overflow": null,
            "overflow_x": null,
            "overflow_y": null,
            "padding": null,
            "right": null,
            "top": null,
            "visibility": null,
            "width": null
          }
        },
        "9a10a70cfb094ad38036ed3467876fcf": {
          "model_module": "@jupyter-widgets/controls",
          "model_name": "DescriptionStyleModel",
          "model_module_version": "1.5.0",
          "state": {
            "_model_module": "@jupyter-widgets/controls",
            "_model_module_version": "1.5.0",
            "_model_name": "DescriptionStyleModel",
            "_view_count": null,
            "_view_module": "@jupyter-widgets/base",
            "_view_module_version": "1.2.0",
            "_view_name": "StyleView",
            "description_width": ""
          }
        }
      }
    }
  },
  "nbformat": 4,
  "nbformat_minor": 0
}